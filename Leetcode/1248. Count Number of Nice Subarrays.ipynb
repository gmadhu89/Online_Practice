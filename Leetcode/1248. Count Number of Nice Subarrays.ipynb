{
 "cells": [
  {
   "cell_type": "markdown",
   "metadata": {},
   "source": [
    "Given an array of integers nums and an integer k. A subarray is called nice if there are k odd numbers on it.\n",
    "\n",
    "Return the number of nice sub-arrays.\n",
    "\n",
    "Example 1\n",
    "Input: nums = [1,1,2,1,1], k = 3\n",
    "Output: 2\n",
    "Explanation: The only sub-arrays with 3 odd numbers are [1,1,2,1] and [1,2,1,1].\n",
    "    \n",
    "Example 2\n",
    "Input: nums = [2,4,6], k = 1\n",
    "Output: 0\n",
    "Explanation: There is no odd numbers in the array.\n",
    "    \n",
    "Example 3\n",
    "Input: nums = [2,2,2,1,2,2,1,2,2,2], k = 2\n",
    "Output: 16\n",
    "\n",
    "Constraints\n",
    "1 <= nums.length <= 50000\n",
    "1 <= nums[i] <= 10^5\n",
    "1 <= k <= nums.length"
   ]
  },
  {
   "cell_type": "code",
   "execution_count": 1,
   "metadata": {},
   "outputs": [],
   "source": [
    "nums = [1,1,2,1,1]"
   ]
  },
  {
   "cell_type": "code",
   "execution_count": 7,
   "metadata": {},
   "outputs": [],
   "source": [
    "nums2 = [(i%2) for i in nums]"
   ]
  },
  {
   "cell_type": "code",
   "execution_count": 8,
   "metadata": {},
   "outputs": [
    {
     "data": {
      "text/plain": [
       "[1, 1, 0, 1, 1]"
      ]
     },
     "execution_count": 8,
     "metadata": {},
     "output_type": "execute_result"
    }
   ],
   "source": [
    "nums2"
   ]
  },
  {
   "cell_type": "code",
   "execution_count": 9,
   "metadata": {},
   "outputs": [],
   "source": [
    "k =3"
   ]
  },
  {
   "cell_type": "code",
   "execution_count": 66,
   "metadata": {},
   "outputs": [],
   "source": [
    "nums = [1,2,2,3,2,4]"
   ]
  },
  {
   "cell_type": "code",
   "execution_count": 69,
   "metadata": {},
   "outputs": [],
   "source": [
    "def numberOfSubarrays(nums, k):\n",
    "    '''\n",
    "    :type nums: list\n",
    "    :type k: int\n",
    "    :rtype: int\n",
    "    '''\n",
    "    def get_evens():\n",
    "      streak = 1\n",
    "      for num in nums:\n",
    "        if num % 2 == 0:\n",
    "          streak += 1\n",
    "        else:\n",
    "          yield streak\n",
    "          streak = 1\n",
    "      yield streak\n",
    "    \n",
    "    e1, e2 = itertools.tee(get_evens())\n",
    "    return sum(a*b for a, b in zip(e1, itertools.islice(e2, k, None)))"
   ]
  },
  {
   "cell_type": "code",
   "execution_count": 71,
   "metadata": {},
   "outputs": [
    {
     "data": {
      "text/plain": [
       "0"
      ]
     },
     "execution_count": 71,
     "metadata": {},
     "output_type": "execute_result"
    }
   ],
   "source": [
    "numberOfSubarrays([1,2,3,4],3)"
   ]
  },
  {
   "cell_type": "markdown",
   "metadata": {},
   "source": [
    "Explanation\n",
    "Get the length of even number streaks between each odd number\n",
    "For example, for [2,2,2,1,2,2,1,2,2,2,1], get [3, 2, 3, 0] ... each comma represents an odd number\n",
    "Add one to all the results... this can be done in various ways\n",
    "For that same example, actually get [4, 3, 4, 1]\n",
    "Get each pair distanced k away from each other\n",
    "For k == 2, we would get (4, 4) and (3, 1)\n",
    "Use zip to multiply all those pairs together, add those products\n",
    "4*4 + 3*1 is 19\n",
    "Optimizations to use O(1) memory in a single pass:\n",
    "\n",
    "Use a generator to yield the even number streaks as we go, to ensure O(1) memory per pass\n",
    "Use tee to ensure we're only performing a single pass at O(1) memory despite needing two copies of the generator\n",
    "Use islice so that we can use the generators in zip"
   ]
  },
  {
   "cell_type": "code",
   "execution_count": 72,
   "metadata": {},
   "outputs": [],
   "source": [
    "### Another approach"
   ]
  },
  {
   "cell_type": "code",
   "execution_count": 86,
   "metadata": {},
   "outputs": [],
   "source": [
    "# Just keep count of the current odd number.\n",
    "# Look in the dictionary if we can find (currendOds - k), \n",
    "# if it exisits that means I can get an subarray with k odds.\n",
    "# Also keep count of number of different types of odds too,\n",
    "# because for K =1 , [2,2,1] is a valid list, so does, [2,1] and [1]."
   ]
  },
  {
   "cell_type": "code",
   "execution_count": 87,
   "metadata": {},
   "outputs": [],
   "source": [
    "def numberofsubarrays(nums,k):\n",
    "    dic = {0:1}\n",
    "    cnt = res = 0\n",
    "    \n",
    "    for i,num in enumerate(nums):\n",
    "        if num %2 == 1:\n",
    "            cnt += 1\n",
    "        \n",
    "        if cnt - k in dic:\n",
    "            res += dic[cnt-k]\n",
    "        \n",
    "        dic[cnt] = dic.get(cnt,0) +1\n",
    "    return res"
   ]
  },
  {
   "cell_type": "code",
   "execution_count": 74,
   "metadata": {},
   "outputs": [],
   "source": [
    "dic = {0:1}"
   ]
  },
  {
   "cell_type": "code",
   "execution_count": 75,
   "metadata": {},
   "outputs": [],
   "source": [
    "cnt = 1"
   ]
  },
  {
   "cell_type": "code",
   "execution_count": 83,
   "metadata": {},
   "outputs": [],
   "source": [
    "dic[cnt] = dic.get(cnt,0)+1"
   ]
  },
  {
   "cell_type": "code",
   "execution_count": 84,
   "metadata": {},
   "outputs": [
    {
     "data": {
      "text/plain": [
       "{0: 1, 1: 1}"
      ]
     },
     "execution_count": 84,
     "metadata": {},
     "output_type": "execute_result"
    }
   ],
   "source": [
    "dic"
   ]
  },
  {
   "cell_type": "code",
   "execution_count": null,
   "metadata": {},
   "outputs": [],
   "source": []
  }
 ],
 "metadata": {
  "kernelspec": {
   "display_name": "Python 3",
   "language": "python",
   "name": "python3"
  },
  "language_info": {
   "codemirror_mode": {
    "name": "ipython",
    "version": 3
   },
   "file_extension": ".py",
   "mimetype": "text/x-python",
   "name": "python",
   "nbconvert_exporter": "python",
   "pygments_lexer": "ipython3",
   "version": "3.7.4"
  }
 },
 "nbformat": 4,
 "nbformat_minor": 2
}
