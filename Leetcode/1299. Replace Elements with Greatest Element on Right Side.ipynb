{
 "cells": [
  {
   "cell_type": "markdown",
   "metadata": {},
   "source": [
    "Given an array arr, replace every element in that array with the greatest element among the elements to its right, and replace the last element with -1.\n",
    "\n",
    "After doing so, return the array.\n",
    "\n",
    " \n",
    "\n",
    "Example 1:\n",
    "\n",
    "Input: arr = [17,18,5,4,6,1]\n",
    "Output: [18,6,6,6,1,-1]\n",
    " \n",
    "\n",
    "Constraints:\n",
    "\n",
    "1 <= arr.length <= 10^4\n",
    "1 <= arr[i] <= 10^5"
   ]
  },
  {
   "cell_type": "code",
   "execution_count": 16,
   "metadata": {},
   "outputs": [],
   "source": [
    "##Brute Force Algorithm, will fail with time exceeded error\n",
    "\n",
    "def replace_array(arr):\n",
    "    \n",
    "    res = []\n",
    "    \n",
    "    for i in range(len(arr)-1):\n",
    "        max_elem = 0        \n",
    "        for j in range(i+1,len(arr)):\n",
    "            if arr[j] > max_elem:\n",
    "                max_elem = arr[j]\n",
    "        \n",
    "        res.append(max_elem)\n",
    "    res.append(-1)\n",
    "    \n",
    "    return res"
   ]
  },
  {
   "cell_type": "code",
   "execution_count": 17,
   "metadata": {},
   "outputs": [
    {
     "data": {
      "text/plain": [
       "[18, 6, 6, 6, 1, -1]"
      ]
     },
     "execution_count": 17,
     "metadata": {},
     "output_type": "execute_result"
    }
   ],
   "source": [
    "replace_array([17,18,5,4,6,1])"
   ]
  },
  {
   "cell_type": "code",
   "execution_count": 18,
   "metadata": {},
   "outputs": [
    {
     "data": {
      "text/plain": [
       "[11, 11, 11, 11, 4, -1]"
      ]
     },
     "execution_count": 18,
     "metadata": {},
     "output_type": "execute_result"
    }
   ],
   "source": [
    "replace_array([15,5,6,9,11,4])"
   ]
  },
  {
   "cell_type": "code",
   "execution_count": 26,
   "metadata": {},
   "outputs": [],
   "source": [
    "## Easy Brute Force\n",
    "\n",
    "def replacearray2(arr):\n",
    "    \n",
    "    for i in range(0,len(arr)-1):\n",
    "        arr[i] = max(arr[i+1:])\n",
    "    arr[-1]= -1\n",
    "    \n",
    "    return arr"
   ]
  },
  {
   "cell_type": "code",
   "execution_count": 27,
   "metadata": {},
   "outputs": [
    {
     "data": {
      "text/plain": [
       "[18, 6, 6, 6, 1, -1]"
      ]
     },
     "execution_count": 27,
     "metadata": {},
     "output_type": "execute_result"
    }
   ],
   "source": [
    "replacearray2([17,18,5,4,6,1])"
   ]
  },
  {
   "cell_type": "code",
   "execution_count": 32,
   "metadata": {},
   "outputs": [
    {
     "data": {
      "text/plain": [
       "[11, 11, 11, 10, 1, -1]"
      ]
     },
     "execution_count": 32,
     "metadata": {},
     "output_type": "execute_result"
    }
   ],
   "source": [
    "replacearray2([15,5,6,11,10,1])"
   ]
  },
  {
   "cell_type": "code",
   "execution_count": 35,
   "metadata": {},
   "outputs": [],
   "source": [
    "## Optimized solution\n",
    "\n",
    "a = [17,18,5,4,6,1]\n",
    "\n",
    "def replacearray3(arr):\n",
    "    output = [-1]\n",
    "    current_max = arr[-1]\n",
    "    \n",
    "    for i in range(len(arr)-1,-1,-1):\n",
    "        if arr[i] > current_max:\n",
    "            current_max = arr[i]\n",
    "        output.append(current_max)\n",
    "    print(output)\n",
    "    \n",
    "    output.pop()\n",
    "    print(output)"
   ]
  },
  {
   "cell_type": "code",
   "execution_count": 36,
   "metadata": {},
   "outputs": [
    {
     "name": "stdout",
     "output_type": "stream",
     "text": [
      "[-1, 1, 6, 6, 6, 18, 18]\n",
      "[-1, 1, 6, 6, 6, 18]\n"
     ]
    }
   ],
   "source": [
    "replacearray3([17,18,5,4,6,1])"
   ]
  },
  {
   "cell_type": "code",
   "execution_count": null,
   "metadata": {},
   "outputs": [],
   "source": []
  }
 ],
 "metadata": {
  "kernelspec": {
   "display_name": "Python 3",
   "language": "python",
   "name": "python3"
  },
  "language_info": {
   "codemirror_mode": {
    "name": "ipython",
    "version": 3
   },
   "file_extension": ".py",
   "mimetype": "text/x-python",
   "name": "python",
   "nbconvert_exporter": "python",
   "pygments_lexer": "ipython3",
   "version": "3.7.4"
  }
 },
 "nbformat": 4,
 "nbformat_minor": 2
}
