{
 "cells": [
  {
   "cell_type": "markdown",
   "metadata": {},
   "source": [
    "You are given the array paths, where paths[i] = [cityAi, cityBi] means there exists a direct path going from cityAi to cityBi. Return the destination city, that is, the city without any path outgoing to another city.\n",
    "\n",
    "It is guaranteed that the graph of paths forms a line without any loop, therefore, there will be exactly one destination city\n",
    "\n",
    "\n",
    "Example 1:\n",
    "\n",
    "Input: paths = [[\"London\",\"New York\"],[\"New York\",\"Lima\"],[\"Lima\",\"Sao Paulo\"]]\n",
    "Output: \"Sao Paulo\" \n",
    "Explanation: Starting at \"London\" city you will reach \"Sao Paulo\" city which is the destination city. Your trip consist of: \"London\" -> \"New York\" -> \"Lima\" -> \"Sao Paulo\".\n",
    "\n",
    "\n",
    "Example 2:\n",
    "\n",
    "Input: paths = [[\"B\",\"C\"],[\"D\",\"B\"],[\"C\",\"A\"]]\n",
    "Output: \"A\"\n",
    "Explanation: All possible trips are: \n",
    "\"D\" -> \"B\" -> \"C\" -> \"A\". \n",
    "\"B\" -> \"C\" -> \"A\". \n",
    "\"C\" -> \"A\". \n",
    "\"A\". \n",
    "Clearly the destination city is \"A\".\n",
    "\n",
    "Example 3:\n",
    "\n",
    "Input: paths = [[\"A\",\"Z\"]]\n",
    "Output: \"Z\"\n",
    "    \n",
    "Constraints:\n",
    "\n",
    "1 <= paths.length <= 100\n",
    "paths[i].length == 2\n",
    "1 <= cityAi.length, cityBi.length <= 10\n",
    "cityAi != cityBi\n",
    "All strings consist of lowercase and uppercase English letters and the space character."
   ]
  },
  {
   "cell_type": "code",
   "execution_count": 1,
   "metadata": {},
   "outputs": [],
   "source": [
    "paths = [[\"B\",\"C\"],[\"D\",\"B\"],[\"C\",\"A\"]]"
   ]
  },
  {
   "cell_type": "code",
   "execution_count": 42,
   "metadata": {},
   "outputs": [],
   "source": [
    "class Solution():\n",
    "    \n",
    "    def destcity(self,paths):\n",
    "        \n",
    "        '''\n",
    "        Solution 1 , using set union\n",
    "             \n",
    "        visited = set()\n",
    "        started = set()\n",
    "        \n",
    "        for p in paths:\n",
    "            visited.add(p[1])\n",
    "            started.add(p[0])\n",
    "            \n",
    "        for c in visited.union(started):\n",
    "            if c in visited and c not in started:\n",
    "                return c\n",
    "        return None\n",
    "        '''\n",
    "        '''\n",
    "        Solution 2 , using zip and set difference\n",
    "        \n",
    "        \n",
    "        frm , to = zip(*paths)\n",
    "        \n",
    "        return set(set(to)-set(frm)).pop()\n",
    "        '''\n",
    "        '''\n",
    "        Solution 3 : Simple solution\n",
    "        '''\n",
    "        \n",
    "        c1 = [c[0] for c in paths]\n",
    "        c2 = [c[1] for c in paths]\n",
    "        \n",
    "        for city in c2:\n",
    "            if city not in c1:\n",
    "                return city\n",
    "        \n",
    "        "
   ]
  },
  {
   "cell_type": "code",
   "execution_count": 43,
   "metadata": {},
   "outputs": [],
   "source": [
    "sol = Solution()"
   ]
  },
  {
   "cell_type": "code",
   "execution_count": 44,
   "metadata": {},
   "outputs": [
    {
     "data": {
      "text/plain": [
       "'Sao Paulo'"
      ]
     },
     "execution_count": 44,
     "metadata": {},
     "output_type": "execute_result"
    }
   ],
   "source": [
    "sol.destcity([[\"London\",\"New York\"],[\"New York\",\"Lima\"],[\"Lima\",\"Sao Paulo\"]])"
   ]
  },
  {
   "cell_type": "code",
   "execution_count": 45,
   "metadata": {},
   "outputs": [
    {
     "data": {
      "text/plain": [
       "'A'"
      ]
     },
     "execution_count": 45,
     "metadata": {},
     "output_type": "execute_result"
    }
   ],
   "source": [
    "sol.destcity([[\"B\",\"C\"],[\"D\",\"B\"],[\"C\",\"A\"]])"
   ]
  },
  {
   "cell_type": "code",
   "execution_count": 46,
   "metadata": {},
   "outputs": [
    {
     "data": {
      "text/plain": [
       "'Z'"
      ]
     },
     "execution_count": 46,
     "metadata": {},
     "output_type": "execute_result"
    }
   ],
   "source": [
    "sol.destcity([[\"A\",\"Z\"]])"
   ]
  }
 ],
 "metadata": {
  "kernelspec": {
   "display_name": "Python 3",
   "language": "python",
   "name": "python3"
  },
  "language_info": {
   "codemirror_mode": {
    "name": "ipython",
    "version": 3
   },
   "file_extension": ".py",
   "mimetype": "text/x-python",
   "name": "python",
   "nbconvert_exporter": "python",
   "pygments_lexer": "ipython3",
   "version": "3.7.4"
  }
 },
 "nbformat": 4,
 "nbformat_minor": 2
}
