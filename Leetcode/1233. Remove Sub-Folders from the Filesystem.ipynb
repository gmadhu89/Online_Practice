{
 "cells": [
  {
   "cell_type": "markdown",
   "metadata": {},
   "source": [
    "Given a list of folders, remove all sub-folders in those folders and return in any order the folders after removing.\n",
    "\n",
    "If a folder[i] is located within another folder[j], it is called a sub-folder of it.\n",
    "\n",
    "The format of a path is one or more concatenated strings of the form: / followed by one or more lowercase English letters. For example, /leetcode and /leetcode/problems are valid paths while an empty string and / are not.\n",
    "\n",
    "Example 1:\n",
    "\n",
    "Input: folder = [\"/a\",\"/a/b\",\"/c/d\",\"/c/d/e\",\"/c/f\"]\n",
    "Output: [\"/a\",\"/c/d\",\"/c/f\"]\n",
    "Explanation: Folders \"/a/b/\" is a subfolder of \"/a\" and \"/c/d/e\" is inside of folder \"/c/d\" in our filesystem.\n",
    "\n",
    "Example 2:\n",
    "\n",
    "Input: folder = [\"/a\",\"/a/b/c\",\"/a/b/d\"]\n",
    "Output: [\"/a\"]\n",
    "Explanation: Folders \"/a/b/c\" and \"/a/b/d/\" will be removed because they are subfolders of \"/a\".\n",
    "    \n",
    "Example 3:\n",
    "\n",
    "Input: folder = [\"/a/b/c\",\"/a/b/ca\",\"/a/b/d\"]\n",
    "Output: [\"/a/b/c\",\"/a/b/ca\",\"/a/b/d\"]\n",
    " \n",
    "\n",
    "Constraints:\n",
    "\n",
    "1 <= folder.length <= 4 * 10^4\n",
    "2 <= folder[i].length <= 100\n",
    "folder[i] contains only lowercase letters and '/'\n",
    "folder[i] always starts with character '/'\n",
    "Each folder name is unique."
   ]
  },
  {
   "cell_type": "code",
   "execution_count": 25,
   "metadata": {},
   "outputs": [
    {
     "name": "stdout",
     "output_type": "stream",
     "text": [
      "['/abc/de', '/abc/dee', '/abc/def', '/abc/dez']\n"
     ]
    }
   ],
   "source": [
    "## This solution will time out, find an optimal solution\n",
    "\n",
    "folder  = [\"/abc/de\",\"/abc/dee\",\"/abc/def\",\"/abc/def/gh\",\"/abc/def/ghi\",\"/abc/def/ghij\",\"/abc/def/ghijk\",\"/abc/dez\"]\n",
    "folder.sort()\n",
    "\n",
    "arr_ind = []\n",
    "for f in folder:\n",
    "    #print('Main Loop' + f)\n",
    "    for j in folder:\n",
    "        #print(j)\n",
    "        if (f in j) and (len(f.split(\"/\")[1:]) < len(j.split(\"/\")[1:])):\n",
    "            arr_ind.append(j)\n",
    "\n",
    "for ind in set(arr_ind): ## Find out why set was needed here and optimize the code accordingly.\n",
    "    folder.remove(ind)\n",
    "    \n",
    "print(folder)\n",
    "            "
   ]
  },
  {
   "cell_type": "code",
   "execution_count": 61,
   "metadata": {},
   "outputs": [],
   "source": [
    "class Solution():\n",
    "    \n",
    "    def removesubfolders(self,folder):\n",
    "        \n",
    "        folders = folder\n",
    "        folders.sort()\n",
    "        \n",
    "        output = []\n",
    "        parent = ' '\n",
    "        \n",
    "        for f in folders:\n",
    "            \n",
    "            if not f.startswith(parent):\n",
    "                output.append(f)\n",
    "                parent = f + '/'\n",
    "        return output\n",
    "            "
   ]
  },
  {
   "cell_type": "code",
   "execution_count": 62,
   "metadata": {},
   "outputs": [],
   "source": [
    "sol = Solution()"
   ]
  },
  {
   "cell_type": "code",
   "execution_count": 63,
   "metadata": {},
   "outputs": [
    {
     "data": {
      "text/plain": [
       "['/abc/de', '/abc/dee', '/abc/def', '/abc/dez']"
      ]
     },
     "execution_count": 63,
     "metadata": {},
     "output_type": "execute_result"
    }
   ],
   "source": [
    "sol.removesubfolders([\"/abc/de\",\"/abc/dee\",\"/abc/def\",\"/abc/def/gh\",\"/abc/def/ghi\",\"/abc/def/ghij\",\"/abc/def/ghijk\",\"/abc/dez\"])"
   ]
  },
  {
   "cell_type": "code",
   "execution_count": 71,
   "metadata": {},
   "outputs": [],
   "source": [
    "class Solution3():\n",
    "    def removesubfolders(self,folder):\n",
    "        \n",
    "        ans = []\n",
    "        set1 = {f for f in folder}\n",
    "        \n",
    "        \n",
    "        for f in folder:\n",
    "            path = f\n",
    "            \n",
    "            while path:\n",
    "                path = path[:path.rfind('/')]\n",
    "                \n",
    "                if path in set1:\n",
    "                    break\n",
    "            else:\n",
    "                ans.append(f)\n",
    "                \n",
    "        return ans\n",
    "        \n",
    "        "
   ]
  },
  {
   "cell_type": "code",
   "execution_count": 72,
   "metadata": {},
   "outputs": [],
   "source": [
    "sol  = Solution3()"
   ]
  },
  {
   "cell_type": "code",
   "execution_count": 73,
   "metadata": {},
   "outputs": [
    {
     "data": {
      "text/plain": [
       "['/abc/de', '/abc/dee', '/abc/def', '/abc/dez']"
      ]
     },
     "execution_count": 73,
     "metadata": {},
     "output_type": "execute_result"
    }
   ],
   "source": [
    "sol.removesubfolders([\"/abc/de\",\"/abc/dee\",\"/abc/def\",\"/abc/def/gh\",\"/abc/def/ghi\",\"/abc/def/ghij\",\"/abc/def/ghijk\",\"/abc/dez\"])"
   ]
  },
  {
   "cell_type": "code",
   "execution_count": null,
   "metadata": {},
   "outputs": [],
   "source": []
  }
 ],
 "metadata": {
  "kernelspec": {
   "display_name": "Python 3",
   "language": "python",
   "name": "python3"
  },
  "language_info": {
   "codemirror_mode": {
    "name": "ipython",
    "version": 3
   },
   "file_extension": ".py",
   "mimetype": "text/x-python",
   "name": "python",
   "nbconvert_exporter": "python",
   "pygments_lexer": "ipython3",
   "version": "3.7.4"
  }
 },
 "nbformat": 4,
 "nbformat_minor": 2
}
