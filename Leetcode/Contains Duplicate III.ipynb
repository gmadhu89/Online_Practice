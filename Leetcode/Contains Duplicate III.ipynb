{
 "cells": [
  {
   "cell_type": "markdown",
   "metadata": {},
   "source": [
    "Given an array of integers, find out whether there are two distinct indices i and j in the array such that the absolute difference between nums[i] and nums[j] is at most t and the absolute difference between i and j is at most k.\n",
    "\n",
    "Example 1:\n",
    "\n",
    "Input: nums = [1,2,3,1], k = 3, t = 0\n",
    "Output: true\n",
    "Example 2:\n",
    "\n",
    "Input: nums = [1,0,1,1], k = 1, t = 2\n",
    "Output: true\n",
    "Example 3:\n",
    "\n",
    "Input: nums = [1,5,9,1,5,9], k = 2, t = 3\n",
    "Output: false"
   ]
  },
  {
   "cell_type": "code",
   "execution_count": 40,
   "metadata": {},
   "outputs": [],
   "source": [
    "## This solution uses O(n2), which is not accepted in Leetcode solution, need to use O(Logn) Time complexity\n",
    "def ContainsDuplicateIII(nums,k,t):  \n",
    "    '''\n",
    "        :type nums: list\n",
    "        :type t: int\n",
    "        :type k: int\n",
    "        :rtype: Bool\n",
    "    '''\n",
    "    for i in range(0,len(nums)):\n",
    "        for j in range(i+1,min(i+1+k,len(nums))):\n",
    "            if abs(i-j) <= k and abs(nums[i]-nums[j])<=t:\n",
    "                return True\n",
    "            \n",
    "    return False    "
   ]
  },
  {
   "cell_type": "code",
   "execution_count": 41,
   "metadata": {},
   "outputs": [
    {
     "data": {
      "text/plain": [
       "False"
      ]
     },
     "execution_count": 41,
     "metadata": {},
     "output_type": "execute_result"
    }
   ],
   "source": [
    "ContainsDuplicateIII([1,5,9,1,5,9],2,3)"
   ]
  },
  {
   "cell_type": "code",
   "execution_count": 42,
   "metadata": {},
   "outputs": [
    {
     "data": {
      "text/plain": [
       "True"
      ]
     },
     "execution_count": 42,
     "metadata": {},
     "output_type": "execute_result"
    }
   ],
   "source": [
    "ContainsDuplicateIII([1,0,1,1],1,2)"
   ]
  },
  {
   "cell_type": "code",
   "execution_count": 43,
   "metadata": {},
   "outputs": [],
   "source": [
    "## SOlution with O(n) TIme Complexity\n",
    "\n",
    "def containsNearbyAlmostDuplicate(self, nums, k, t):\n",
    "    # Bucket sort. Each bucket has size of t. For each number, the possible\n",
    "    # candidate can only be in the same bucket or the two buckets besides.\n",
    "    # Keep as many as k buckets to ensure that the difference is at most k.\n",
    "    buckets = {}\n",
    "    for i, v in enumerate(nums):\n",
    "        # t == 0 is a special case where we only have to check the bucket\n",
    "        # that v is in.\n",
    "        bucketNum, offset = (v / t, 1) if t else (v, 0)\n",
    "        for idx in xrange(bucketNum - offset, bucketNum + offset + 1):\n",
    "            if idx in buckets and abs(buckets[idx] - nums[i]) <= t:\n",
    "                return True\n",
    "\n",
    "        buckets[bucketNum] = nums[i]\n",
    "        if len(buckets) > k:\n",
    "            # Remove the bucket which is too far away. Beware of zero t.\n",
    "            del buckets[nums[i - k] / t if t else nums[i - k]]\n",
    "\n",
    "    return False"
   ]
  },
  {
   "cell_type": "code",
   "execution_count": 52,
   "metadata": {},
   "outputs": [],
   "source": [
    "nums =[1,2,3,1]\n",
    "k = 3\n",
    "t = 2"
   ]
  },
  {
   "cell_type": "code",
   "execution_count": 53,
   "metadata": {},
   "outputs": [
    {
     "name": "stdout",
     "output_type": "stream",
     "text": [
      "0.5\n",
      "1\n",
      "1.0\n",
      "1\n",
      "1.5\n",
      "1\n",
      "0.5\n",
      "1\n"
     ]
    }
   ],
   "source": [
    "for i,v in enumerate(nums):\n",
    "    bucket,offset = (v/t,1) if t else (v,0)\n",
    "    print(bucket)\n",
    "    print(offset)\n"
   ]
  },
  {
   "cell_type": "code",
   "execution_count": null,
   "metadata": {},
   "outputs": [],
   "source": []
  }
 ],
 "metadata": {
  "kernelspec": {
   "display_name": "Python 3",
   "language": "python",
   "name": "python3"
  },
  "language_info": {
   "codemirror_mode": {
    "name": "ipython",
    "version": 3
   },
   "file_extension": ".py",
   "mimetype": "text/x-python",
   "name": "python",
   "nbconvert_exporter": "python",
   "pygments_lexer": "ipython3",
   "version": "3.7.4"
  }
 },
 "nbformat": 4,
 "nbformat_minor": 2
}
