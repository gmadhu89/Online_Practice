{
 "cells": [
  {
   "cell_type": "code",
   "execution_count": 43,
   "metadata": {},
   "outputs": [
    {
     "name": "stdout",
     "output_type": "stream",
     "text": [
      "[5, 4, 3, 2, 1]\n",
      "[30, 'This', 12, 'Hello']\n"
     ]
    }
   ],
   "source": [
    "def reverse_py1(mylist=[]):\n",
    "    '''\n",
    "    Implementation of Reversal of a list in place \n",
    "    '''\n",
    "    \n",
    "    if not mylist:\n",
    "        return mylist\n",
    "\n",
    "    list2=[]\n",
    "    for i,l in enumerate(mylist):\n",
    "        list2.append(mylist[(len(mylist)-1)-i])\n",
    "\n",
    "    mylist = []\n",
    "    mylist = list2\n",
    "    return mylist\n",
    "    \n",
    "if __name__=='__main__':\n",
    "    print(reverse_py1([1,2,3,4,5]))\n",
    "    print(reverse_py1(['Hello',12,'This',30]))\n",
    "    "
   ]
  },
  {
   "cell_type": "code",
   "execution_count": 4,
   "metadata": {},
   "outputs": [],
   "source": [
    "def reverse_py2(mylist):\n",
    "    '''\n",
    "    Implementation of Reversal as a generator function\n",
    "    '''\n",
    "    \n",
    "    for index in range(len(mylist)-1,-1,-1):\n",
    "        yield mylist[index]\n",
    "        \n",
    "#if __name__ == '__main__':\n",
    "#    list(reverse_py2([1,2,3,4,5]))"
   ]
  },
  {
   "cell_type": "code",
   "execution_count": 8,
   "metadata": {},
   "outputs": [
    {
     "data": {
      "text/plain": [
       "[5, 4, 3, 2, 1]"
      ]
     },
     "execution_count": 8,
     "metadata": {},
     "output_type": "execute_result"
    }
   ],
   "source": [
    "reverse_py2([1,2,3,4,5])\n",
    "list(reverse_py2([1,2,3,4,5]))"
   ]
  },
  {
   "cell_type": "raw",
   "metadata": {},
   "source": []
  }
 ],
 "metadata": {
  "kernelspec": {
   "display_name": "Python 3",
   "language": "python",
   "name": "python3"
  },
  "language_info": {
   "codemirror_mode": {
    "name": "ipython",
    "version": 3
   },
   "file_extension": ".py",
   "mimetype": "text/x-python",
   "name": "python",
   "nbconvert_exporter": "python",
   "pygments_lexer": "ipython3",
   "version": "3.7.4"
  }
 },
 "nbformat": 4,
 "nbformat_minor": 2
}
