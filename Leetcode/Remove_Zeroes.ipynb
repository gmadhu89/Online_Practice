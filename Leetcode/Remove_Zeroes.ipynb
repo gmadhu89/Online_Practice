{
 "cells": [
  {
   "cell_type": "markdown",
   "metadata": {},
   "source": [
    "Given an array nums, write a function to move all 0's to the end of it while maintaining the relative order of the non-zero elements.\n",
    "\n",
    "Example:\n",
    "\n",
    "Input: [0,1,0,3,12]\n",
    "Output: [1,3,12,0,0]\n",
    "Note:\n",
    "\n",
    "You must do this in-place without making a copy of the array.\n",
    "Minimize the total number of operations."
   ]
  },
  {
   "cell_type": "code",
   "execution_count": 10,
   "metadata": {},
   "outputs": [],
   "source": [
    "def remove_zeros(nums):\n",
    "    \n",
    "    t=0\n",
    "    \n",
    "    while 0 in nums:\n",
    "        for i,num in enumerate(nums):\n",
    "            if nums[i] == 0:\n",
    "                del nums[i]\n",
    "                t += 1\n",
    "    \n",
    "    for j in range(t):\n",
    "        nums.append(0)\n",
    "        \n",
    "    return nums\n",
    "                "
   ]
  },
  {
   "cell_type": "code",
   "execution_count": 22,
   "metadata": {},
   "outputs": [],
   "source": [
    "def removezeros2(nums):\n",
    "    \n",
    "    count = 0\n",
    "    \n",
    "    for num in nums[:]:\n",
    "        if num == 0:\n",
    "            nums.remove(num)\n",
    "            count += 1\n",
    "    \n",
    "    nums.extend([0]*count)\n",
    "    return nums"
   ]
  }
 ],
 "metadata": {
  "kernelspec": {
   "display_name": "Python 3",
   "language": "python",
   "name": "python3"
  },
  "language_info": {
   "codemirror_mode": {
    "name": "ipython",
    "version": 3
   },
   "file_extension": ".py",
   "mimetype": "text/x-python",
   "name": "python",
   "nbconvert_exporter": "python",
   "pygments_lexer": "ipython3",
   "version": "3.7.4"
  }
 },
 "nbformat": 4,
 "nbformat_minor": 2
}
