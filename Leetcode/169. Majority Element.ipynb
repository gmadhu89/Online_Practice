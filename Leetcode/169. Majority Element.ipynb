{
 "cells": [
  {
   "cell_type": "markdown",
   "metadata": {},
   "source": [
    "Given an array of size n, find the majority element. The majority element is the element that appears more than ⌊ n/2 ⌋ times.\n",
    "\n",
    "You may assume that the array is non-empty and the majority element always exist in the array.\n",
    "\n",
    "Example 1:\n",
    "\n",
    "Input: [3,2,3]\n",
    "Output: 3\n",
    "Example 2:\n",
    "\n",
    "Input: [2,2,1,1,1,2,2]\n",
    "Output: 2"
   ]
  },
  {
   "cell_type": "code",
   "execution_count": 55,
   "metadata": {},
   "outputs": [
    {
     "name": "stdout",
     "output_type": "stream",
     "text": [
      "3\n"
     ]
    }
   ],
   "source": [
    "class Solution:\n",
    "    def majorityElement(self,nums):\n",
    "        \n",
    "        '''\n",
    "        :type nums: list\n",
    "        :rtype : int\n",
    "        '''\n",
    "        \n",
    "        mydict = {}\n",
    "\n",
    "        for num in set(nums[:]):\n",
    "            mydict[num] = 0\n",
    "    \n",
    "        for i,num in enumerate(nums):\n",
    "            mydict[num] +=1\n",
    "    \n",
    "        for i in mydict.items():\n",
    "            if int(i[1]) > len(nums)/2:\n",
    "                return(i[0])\n",
    "            \n",
    "\n",
    "            \n",
    "if __name__=='__main__':\n",
    "    sol = Solution()\n",
    "    print(sol.majorityElement([3,2,3]))\n",
    "    \n",
    "## Space Complexity\n",
    "## Time Complexity O(n3)"
   ]
  },
  {
   "cell_type": "code",
   "execution_count": 71,
   "metadata": {},
   "outputs": [
    {
     "name": "stdout",
     "output_type": "stream",
     "text": [
      "3\n"
     ]
    }
   ],
   "source": [
    "class LeetcodeSolution:   ##Brute Force, Iterating through each element\n",
    "    def majorityelement(self,nums):\n",
    "        \n",
    "        '''\n",
    "        :type nums : list\n",
    "        :rtype : int\n",
    "        '''\n",
    "        \n",
    "        majority_count = len(nums)//2\n",
    "        \n",
    "        for num in nums:\n",
    "            count = sum(1 for elem in nums if elem==num)\n",
    "            if count > majority_count:           #Returns the number first time when it exceeds the majoritycount\n",
    "                return num\n",
    "            \n",
    "if __name__=='__main__':\n",
    "    sol=LeetcodeSolution()\n",
    "    print(sol.majorityelement([3,2,3,3]))\n",
    "            \n",
    "\n",
    "## Space Complexity : O(n)\n",
    "## Time Complexity : O(n2)  # Iterate 2 times"
   ]
  },
  {
   "cell_type": "code",
   "execution_count": 79,
   "metadata": {},
   "outputs": [
    {
     "name": "stdout",
     "output_type": "stream",
     "text": [
      "3\n"
     ]
    }
   ],
   "source": [
    "class SolutionSort():  ## Sorting Approach (Only works when it is assumed that one element is a Majority Element)\n",
    "    def majorityElement(self,nums):\n",
    "        \n",
    "        nums.sort()\n",
    "        return nums[len(nums)//2]\n",
    "    \n",
    "if __name__=='__main__':\n",
    "    sol=SolutionSort()\n",
    "    print(sol.majorityElement([1,2,3,3,2,3]))\n",
    "    \n",
    "#Time Complexity :O(nlgn)\n",
    "# Space Complexity : O(1) or O(n)"
   ]
  },
  {
   "cell_type": "code",
   "execution_count": 4,
   "metadata": {},
   "outputs": [],
   "source": [
    "class Solution:\n",
    "    def majorityElement(self, nums):\n",
    "        nums_set = set(nums)\n",
    "    \n",
    "        for num in nums_set:\n",
    "            if nums.count(num) > len(nums)/2 :\n",
    "                return num\n",
    "            "
   ]
  },
  {
   "cell_type": "code",
   "execution_count": 6,
   "metadata": {},
   "outputs": [
    {
     "data": {
      "text/plain": [
       "3"
      ]
     },
     "execution_count": 6,
     "metadata": {},
     "output_type": "execute_result"
    }
   ],
   "source": [
    "sol =  Solution()\n",
    "sol.majorityElement([1,2,3,3,2,3,3])"
   ]
  },
  {
   "cell_type": "code",
   "execution_count": 1,
   "metadata": {},
   "outputs": [],
   "source": [
    "from collections import Counter\n",
    "class Solution4():\n",
    "    def majorityElement(self,nums):\n",
    "        \n",
    "        n = Counter(nums)\n",
    "        \n",
    "        for k,v in n.items():\n",
    "            if v > len(nums)/2:\n",
    "                return k\n",
    "        "
   ]
  },
  {
   "cell_type": "code",
   "execution_count": 2,
   "metadata": {},
   "outputs": [],
   "source": [
    "sol4 = Solution4()"
   ]
  },
  {
   "cell_type": "code",
   "execution_count": 3,
   "metadata": {},
   "outputs": [
    {
     "data": {
      "text/plain": [
       "3"
      ]
     },
     "execution_count": 3,
     "metadata": {},
     "output_type": "execute_result"
    }
   ],
   "source": [
    "sol4.majorityElement([1,2,3,3,2,3,3])"
   ]
  },
  {
   "cell_type": "code",
   "execution_count": null,
   "metadata": {},
   "outputs": [],
   "source": []
  }
 ],
 "metadata": {
  "kernelspec": {
   "display_name": "Python 3",
   "language": "python",
   "name": "python3"
  },
  "language_info": {
   "codemirror_mode": {
    "name": "ipython",
    "version": 3
   },
   "file_extension": ".py",
   "mimetype": "text/x-python",
   "name": "python",
   "nbconvert_exporter": "python",
   "pygments_lexer": "ipython3",
   "version": "3.7.4"
  }
 },
 "nbformat": 4,
 "nbformat_minor": 2
}
