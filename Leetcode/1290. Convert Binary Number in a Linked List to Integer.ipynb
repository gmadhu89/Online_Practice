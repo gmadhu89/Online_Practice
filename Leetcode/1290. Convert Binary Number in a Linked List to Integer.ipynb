{
 "cells": [
  {
   "cell_type": "markdown",
   "metadata": {},
   "source": [
    "Given head which is a reference node to a singly-linked list. The value of each node in the linked list is either 0 or 1. The linked list holds the binary representation of a number.\n",
    "\n",
    "Return the decimal value of the number in the linked list.\n",
    "\n",
    " \n",
    "\n",
    "Example 1:\n",
    "\n",
    "    1   ->   0   -> 1\n",
    "\n",
    "Input: head = [1,0,1]\n",
    "Output: 5\n",
    "Explanation: (101) in base 2 = (5) in base 10\n",
    "Example 2:\n",
    "\n",
    "Input: head = [0]\n",
    "Output: 0\n",
    "Example 3:\n",
    "\n",
    "Input: head = [1]\n",
    "Output: 1\n",
    "Example 4:\n",
    "\n",
    "Input: head = [1,0,0,1,0,0,1,1,1,0,0,0,0,0,0]\n",
    "Output: 18880\n",
    "Example 5:\n",
    "\n",
    "Input: head = [0,0]\n",
    "Output: 0\n",
    " \n",
    "\n",
    "Constraints:\n",
    "\n",
    "The Linked List is not empty.\n",
    "Number of nodes will not exceed 30.\n",
    "Each node's value is either 0 or 1."
   ]
  },
  {
   "cell_type": "code",
   "execution_count": 2,
   "metadata": {},
   "outputs": [],
   "source": [
    "class ListNode():\n",
    "    \n",
    "    def __init__(self,val=0,next=None):\n",
    "        self.val = val\n",
    "        self.next = next\n",
    "\n",
    "class Solution():\n",
    "    \n",
    "    def getDecimalValue(self,head):\n",
    "        '''\n",
    "        :type head : Linked List\n",
    "        :rtype     : int\n",
    "        '''\n",
    "        \n",
    "        dec_val = 0\n",
    "        length = 0\n",
    "        ## Find the length of the Linked list\n",
    "        currentNode = head\n",
    "        while (currentNode != None):\n",
    "            length += 1\n",
    "            currentNode = currentNode.next\n",
    "        \n",
    "        ## Implement the decimal value of the binary Linked list\n",
    "        \n",
    "        n = length -1\n",
    "        currNode = head\n",
    "        \n",
    "        while(currNode != None):\n",
    "            dec_val += currNode.val * pow(2,n)\n",
    "            n -= 1\n",
    "            currNode = currNode.next\n",
    "        \n",
    "        return dec_val\n",
    "        \n",
    "            \n",
    "      "
   ]
  },
  {
   "cell_type": "code",
   "execution_count": null,
   "metadata": {},
   "outputs": [],
   "source": []
  }
 ],
 "metadata": {
  "kernelspec": {
   "display_name": "Python 3",
   "language": "python",
   "name": "python3"
  },
  "language_info": {
   "codemirror_mode": {
    "name": "ipython",
    "version": 3
   },
   "file_extension": ".py",
   "mimetype": "text/x-python",
   "name": "python",
   "nbconvert_exporter": "python",
   "pygments_lexer": "ipython3",
   "version": "3.7.4"
  }
 },
 "nbformat": 4,
 "nbformat_minor": 2
}
