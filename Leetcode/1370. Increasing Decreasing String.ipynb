{
 "cells": [
  {
   "cell_type": "markdown",
   "metadata": {},
   "source": [
    "Given a string s. You should re-order the string using the following algorithm:\n",
    "\n",
    "Pick the smallest character from s and append it to the result.\n",
    "Pick the smallest character from s which is greater than the last appended character to the result and append it.\n",
    "Repeat step 2 until you cannot pick more characters.\n",
    "Pick the largest character from s and append it to the result.\n",
    "Pick the largest character from s which is smaller than the last appended character to the result and append it.\n",
    "Repeat step 5 until you cannot pick more characters.\n",
    "Repeat the steps from 1 to 6 until you pick all characters from s.\n",
    "In each step, If the smallest or the largest character appears more than once you can choose any occurrence and append it to the result.\n",
    "\n",
    "Return the result string after sorting s with this algorithm.\n",
    "\n",
    "Example 1:\n",
    "\n",
    "Input: s = \"aaaabbbbcccc\"\n",
    "Output: \"abccbaabccba\"\n",
    "Explanation: After steps 1, 2 and 3 of the first iteration, result = \"abc\"\n",
    "After steps 4, 5 and 6 of the first iteration, result = \"abccba\"\n",
    "First iteration is done. Now s = \"aabbcc\" and we go back to step 1\n",
    "After steps 1, 2 and 3 of the second iteration, result = \"abccbaabc\"\n",
    "After steps 4, 5 and 6 of the second iteration, result = \"abccbaabccba\"\n",
    "\n",
    "\n",
    "Example 2:\n",
    "\n",
    "Input: s = \"rat\"\n",
    "Output: \"art\"\n",
    "Explanation: The word \"rat\" becomes \"art\" after re-ordering it with the mentioned algorithm.\n",
    "Example 3:\n",
    "\n",
    "Input: s = \"leetcode\"\n",
    "Output: \"cdelotee\"\n",
    "Example 4:\n",
    "\n",
    "Input: s = \"ggggggg\"\n",
    "Output: \"ggggggg\"\n",
    "    \n",
    "    Example 5:\n",
    "\n",
    "Input: s = \"spo\"\n",
    "Output: \"ops\"\n",
    "    \n",
    "    Constraints:\n",
    "\n",
    "1 <= s.length <= 500\n",
    "s contains only lower-case English letters."
   ]
  },
  {
   "cell_type": "code",
   "execution_count": 16,
   "metadata": {},
   "outputs": [],
   "source": [
    "class Solution:\n",
    "    def sortString(self, s: str) -> str:\n",
    "        result = []\n",
    "        s = list(s)\n",
    "        flag = True\n",
    "        while len(s)!=0:\n",
    "            if flag:\n",
    "                temp = sorted(set(s))\n",
    "            else:\n",
    "                temp = sorted(set(s), reverse = True)\n",
    "            for ch in temp: s.remove(ch)\n",
    "            result.extend(temp)  \n",
    "            flag = not flag\n",
    "        return \"\".join(result)"
   ]
  },
  {
   "cell_type": "code",
   "execution_count": 17,
   "metadata": {},
   "outputs": [],
   "source": [
    "sol = Solution()"
   ]
  },
  {
   "cell_type": "code",
   "execution_count": 5,
   "metadata": {},
   "outputs": [
    {
     "data": {
      "text/plain": [
       "'cdelotee'"
      ]
     },
     "execution_count": 5,
     "metadata": {},
     "output_type": "execute_result"
    }
   ],
   "source": [
    "sol.sortString('leetcode')"
   ]
  },
  {
   "cell_type": "code",
   "execution_count": 6,
   "metadata": {},
   "outputs": [],
   "source": [
    "s = ['a','a','a','a','b','b','b','b','c','c','c','c']"
   ]
  },
  {
   "cell_type": "code",
   "execution_count": 8,
   "metadata": {},
   "outputs": [
    {
     "data": {
      "text/plain": [
       "['c', 'b', 'a']"
      ]
     },
     "execution_count": 8,
     "metadata": {},
     "output_type": "execute_result"
    }
   ],
   "source": [
    "sorted(set(s),reverse=True)"
   ]
  },
  {
   "cell_type": "code",
   "execution_count": 10,
   "metadata": {},
   "outputs": [],
   "source": [
    "tmp = sorted(set(s),reverse=False)"
   ]
  },
  {
   "cell_type": "code",
   "execution_count": 14,
   "metadata": {},
   "outputs": [],
   "source": [
    "for ch in tmp:\n",
    "    s.remove(ch)"
   ]
  },
  {
   "cell_type": "code",
   "execution_count": 15,
   "metadata": {},
   "outputs": [
    {
     "data": {
      "text/plain": [
       "['a', 'a', 'a', 'b', 'b', 'b', 'c', 'c', 'c']"
      ]
     },
     "execution_count": 15,
     "metadata": {},
     "output_type": "execute_result"
    }
   ],
   "source": [
    "s"
   ]
  },
  {
   "cell_type": "code",
   "execution_count": null,
   "metadata": {},
   "outputs": [],
   "source": []
  }
 ],
 "metadata": {
  "kernelspec": {
   "display_name": "Python 3",
   "language": "python",
   "name": "python3"
  },
  "language_info": {
   "codemirror_mode": {
    "name": "ipython",
    "version": 3
   },
   "file_extension": ".py",
   "mimetype": "text/x-python",
   "name": "python",
   "nbconvert_exporter": "python",
   "pygments_lexer": "ipython3",
   "version": "3.7.4"
  }
 },
 "nbformat": 4,
 "nbformat_minor": 2
}
