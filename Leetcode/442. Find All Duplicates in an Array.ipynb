{
 "cells": [
  {
   "cell_type": "markdown",
   "metadata": {},
   "source": [
    "Given an array of integers, 1 ≤ a[i] ≤ n (n = size of array), some elements appear twice and others appear once.\n",
    "\n",
    "Find all the elements that appear twice in this array.\n",
    "\n",
    "Could you do it without extra space and in O(n) runtime?\n",
    "\n",
    "Example:\n",
    "Input:\n",
    "[4,3,2,7,8,2,3,1]\n",
    "\n",
    "Output:\n",
    "[2,3]"
   ]
  },
  {
   "cell_type": "code",
   "execution_count": 1,
   "metadata": {},
   "outputs": [],
   "source": [
    "a = [4,3,2,7,8,2,3,1]"
   ]
  },
  {
   "cell_type": "code",
   "execution_count": 11,
   "metadata": {},
   "outputs": [],
   "source": [
    "import collections\n",
    "class Solution():\n",
    "    \n",
    "    def findduplicate(self,nums):\n",
    "        return [i for i,j in collections.Counter(nums).items() if j >= 2]"
   ]
  },
  {
   "cell_type": "code",
   "execution_count": 20,
   "metadata": {},
   "outputs": [],
   "source": [
    "class Solution():\n",
    "    \n",
    "    def finddup(self,nums):\n",
    "        \n",
    "        s,a = set(),[]\n",
    "        \n",
    "        for n in nums:\n",
    "            if n in s:\n",
    "                a.append(n)\n",
    "            else:\n",
    "                s.add(n)\n",
    "                \n",
    "        return a"
   ]
  },
  {
   "cell_type": "code",
   "execution_count": 21,
   "metadata": {},
   "outputs": [
    {
     "data": {
      "text/plain": [
       "[2, 3]"
      ]
     },
     "execution_count": 21,
     "metadata": {},
     "output_type": "execute_result"
    }
   ],
   "source": [
    "sol = Solution()\n",
    "sol.finddup([4,3,2,7,8,2,3,1])"
   ]
  },
  {
   "cell_type": "code",
   "execution_count": 33,
   "metadata": {},
   "outputs": [],
   "source": [
    "def finddup2(nums):\n",
    "    res = []\n",
    "    \n",
    "    for num in nums:\n",
    "        num = abs(num)\n",
    "        \n",
    "        if nums[num-1] < 0:\n",
    "            res.append(num)\n",
    "            print('Append step' + str(res))\n",
    "            \n",
    "        else:\n",
    "            nums[num-1] = -nums[num-1]\n",
    "            print('Assign Step' + str(nums))\n",
    "            \n",
    "    return res"
   ]
  },
  {
   "cell_type": "code",
   "execution_count": 34,
   "metadata": {},
   "outputs": [
    {
     "name": "stdout",
     "output_type": "stream",
     "text": [
      "Assign Step[4, 2, 3, -7, 8, 2, 1, 5]\n",
      "Assign Step[4, -2, 3, -7, 8, 2, 1, 5]\n",
      "Assign Step[4, -2, -3, -7, 8, 2, 1, 5]\n",
      "Assign Step[4, -2, -3, -7, 8, 2, -1, 5]\n",
      "Assign Step[4, -2, -3, -7, 8, 2, -1, -5]\n",
      "Append step[2]\n",
      "Assign Step[-4, -2, -3, -7, 8, 2, -1, -5]\n",
      "Assign Step[-4, -2, -3, -7, -8, 2, -1, -5]\n"
     ]
    },
    {
     "data": {
      "text/plain": [
       "[2]"
      ]
     },
     "execution_count": 34,
     "metadata": {},
     "output_type": "execute_result"
    }
   ],
   "source": [
    "finddup2([4,2,3,7,8,2,1,5])"
   ]
  },
  {
   "cell_type": "code",
   "execution_count": null,
   "metadata": {},
   "outputs": [],
   "source": []
  }
 ],
 "metadata": {
  "kernelspec": {
   "display_name": "Python 3",
   "language": "python",
   "name": "python3"
  },
  "language_info": {
   "codemirror_mode": {
    "name": "ipython",
    "version": 3
   },
   "file_extension": ".py",
   "mimetype": "text/x-python",
   "name": "python",
   "nbconvert_exporter": "python",
   "pygments_lexer": "ipython3",
   "version": "3.7.4"
  }
 },
 "nbformat": 4,
 "nbformat_minor": 2
}
