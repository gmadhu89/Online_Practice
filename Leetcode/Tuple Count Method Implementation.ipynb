{
 "cells": [
  {
   "cell_type": "code",
   "execution_count": 16,
   "metadata": {},
   "outputs": [
    {
     "name": "stdout",
     "output_type": "stream",
     "text": [
      "2\n"
     ]
    }
   ],
   "source": [
    "def tup_count(tup,element):\n",
    "    '''\n",
    "    Implementation of Tuple count method\n",
    "    Pass the Tuple and the element for which count has to be determined. Function will return the number of time the element has occured in the Tuple\n",
    "    '''\n",
    "    \n",
    "    index = 0\n",
    "    \n",
    "    for t in range(len(tup)):\n",
    "        if tup[t] == element:\n",
    "            index+=1\n",
    "    \n",
    "    return index\n",
    "\n",
    "if __name__=='__main__':\n",
    "    print(tup_count((1,2,3,4,2,2,4,3,6),4))\n",
    "    "
   ]
  }
 ],
 "metadata": {
  "kernelspec": {
   "display_name": "Python 3",
   "language": "python",
   "name": "python3"
  },
  "language_info": {
   "codemirror_mode": {
    "name": "ipython",
    "version": 3
   },
   "file_extension": ".py",
   "mimetype": "text/x-python",
   "name": "python",
   "nbconvert_exporter": "python",
   "pygments_lexer": "ipython3",
   "version": "3.7.4"
  }
 },
 "nbformat": 4,
 "nbformat_minor": 2
}
