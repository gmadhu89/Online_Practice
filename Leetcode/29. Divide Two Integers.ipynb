{
 "cells": [
  {
   "cell_type": "markdown",
   "metadata": {},
   "source": [
    "Given two integers dividend and divisor, divide two integers without using multiplication, division and mod operator.\n",
    "\n",
    "Return the quotient after dividing dividend by divisor.\n",
    "\n",
    "The integer division should truncate toward zero, which means losing its fractional part. For example, truncate(8.345) = 8 and truncate(-2.7335) = -2.\n",
    "\n",
    "Example 1:\n",
    "\n",
    "Input: dividend = 10, divisor = 3\n",
    "Output: 3\n",
    "Explanation: 10/3 = truncate(3.33333..) = 3.\n",
    "Example 2:\n",
    "\n",
    "Input: dividend = 7, divisor = -3\n",
    "Output: -2\n",
    "Explanation: 7/-3 = truncate(-2.33333..) = -2.\n",
    "Note:\n",
    "\n",
    "Both dividend and divisor will be 32-bit signed integers.\n",
    "The divisor will never be 0.\n",
    "Assume we are dealing with an environment which could only store integers within the 32-bit signed integer range: [−231,  231 − 1]. For the purpose of this problem, assume that your function returns 231 − 1 when the division result overflows."
   ]
  },
  {
   "cell_type": "code",
   "execution_count": 1,
   "metadata": {},
   "outputs": [],
   "source": [
    "## This approach will fail with Time exceeded error, since we do each iteration.\n",
    "\n",
    "def divide(dividend,divisor):\n",
    "    '''\n",
    "    :type dividend : int\n",
    "    :type divisor  : int\n",
    "    :rtype         : int\n",
    "    '''\n",
    "    \n",
    "    if dividend == 0 or divisor == 1:\n",
    "        return dividend\n",
    "    \n",
    "    if dividend == -2**31 and divisor == -1:\n",
    "        return 2**31 - 1\n",
    "    \n",
    "    neg = (dividend < 0) ^ (divisor < 0)\n",
    "    dividend = abs(dividend)\n",
    "    divisor = abs(divisor)\n",
    "    \n",
    "    final = 0\n",
    "    \n",
    "    while dividend >= divisor:\n",
    "        dividend -= divisor\n",
    "        final += 1\n",
    "        \n",
    "    return 0 - final if neg else final"
   ]
  },
  {
   "cell_type": "code",
   "execution_count": 4,
   "metadata": {},
   "outputs": [
    {
     "data": {
      "text/plain": [
       "-2"
      ]
     },
     "execution_count": 4,
     "metadata": {},
     "output_type": "execute_result"
    }
   ],
   "source": [
    "divide(7,-3)"
   ]
  },
  {
   "cell_type": "code",
   "execution_count": 8,
   "metadata": {},
   "outputs": [],
   "source": [
    "## This is a similar approach that runs faster\n",
    "\n",
    "def divide2(dividend, divisor):\n",
    "    if dividend == 0 or divisor == 1: #not necessary but makes things simpler\n",
    "        return dividend\n",
    "    if dividend == -2**31 and divisor == -1: #accurately deal with overflow\n",
    "        return 2**31-1\n",
    "    neg = (dividend < 0) ^ (divisor < 0)\n",
    "    dividend = abs(dividend)\n",
    "    divisor = abs(divisor)\n",
    "    endres = 0\n",
    "    while dividend >= divisor:\n",
    "        #At each iteration subtract the largest possible divisor*r=divisor*(2**k)\n",
    "        resm = divisor\n",
    "        r = 1\n",
    "        while resm + resm < dividend:\n",
    "            r += r\n",
    "            resm += resm\n",
    "        dividend -= resm\n",
    "        endres += r\n",
    "    return 0 - endres if neg else endres"
   ]
  },
  {
   "cell_type": "code",
   "execution_count": 9,
   "metadata": {},
   "outputs": [
    {
     "data": {
      "text/plain": [
       "3"
      ]
     },
     "execution_count": 9,
     "metadata": {},
     "output_type": "execute_result"
    }
   ],
   "source": [
    "divide2(10,3)"
   ]
  },
  {
   "cell_type": "code",
   "execution_count": null,
   "metadata": {},
   "outputs": [],
   "source": []
  }
 ],
 "metadata": {
  "kernelspec": {
   "display_name": "Python 3",
   "language": "python",
   "name": "python3"
  },
  "language_info": {
   "codemirror_mode": {
    "name": "ipython",
    "version": 3
   },
   "file_extension": ".py",
   "mimetype": "text/x-python",
   "name": "python",
   "nbconvert_exporter": "python",
   "pygments_lexer": "ipython3",
   "version": "3.7.4"
  }
 },
 "nbformat": 4,
 "nbformat_minor": 2
}
