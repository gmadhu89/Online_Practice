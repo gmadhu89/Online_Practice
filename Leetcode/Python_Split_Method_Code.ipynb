{
 "cells": [
  {
   "cell_type": "code",
   "execution_count": 115,
   "metadata": {},
   "outputs": [
    {
     "name": "stdout",
     "output_type": "stream",
     "text": [
      "['Hello', 'World', 'Letters']\n",
      "['Hello']\n",
      "['Hello World']\n",
      "['Hi', 'this', 'is', 'a', 'comma', 'separated', 'line']\n",
      "[]\n"
     ]
    }
   ],
   "source": [
    "def split_py(string,delimiter=None):\n",
    "    '''\n",
    "    Python Split function Implementation by Madhumitha Ganesan (3/2/2020)\n",
    "    Split the string into list elements at the delimiter provided or by space within the string\n",
    "    '''\n",
    "    \n",
    "    # Defining an empty return list\n",
    "    result_list = []\n",
    "    \n",
    "    ## Returning an empty list if the string is blank\n",
    "    if not string:\n",
    "        return result_list\n",
    "    \n",
    "    ## Use Space as default delimiter if there is no delimiter provided\n",
    "    if not delimiter:\n",
    "        delimiter = ' '\n",
    "        \n",
    "    ## Code for Splitting string based on the delimiter\n",
    "    \n",
    "    start = 0\n",
    "    \n",
    "    for index,char in enumerate(string):\n",
    "        if char == delimiter:\n",
    "            result_list.append(string[start:index])\n",
    "            start = index +1 \n",
    "            \n",
    "    if start == 0:\n",
    "        return[string]\n",
    "        \n",
    "    result_list.append(string[start:index+1])\n",
    "    \n",
    "    return result_list\n",
    "\n",
    "if __name__ == '__main__':\n",
    "    print(split_py('Hello World Letters'))\n",
    "    print(split_py('Hello'))\n",
    "    print(split_py('Hello World',','))\n",
    "    print(split_py('Hi,this,is,a,comma,separated,line',','))\n",
    "    print(split_py(''))"
   ]
  },
  {
   "cell_type": "code",
   "execution_count": null,
   "metadata": {},
   "outputs": [],
   "source": []
  }
 ],
 "metadata": {
  "kernelspec": {
   "display_name": "Python 3",
   "language": "python",
   "name": "python3"
  },
  "language_info": {
   "codemirror_mode": {
    "name": "ipython",
    "version": 3
   },
   "file_extension": ".py",
   "mimetype": "text/x-python",
   "name": "python",
   "nbconvert_exporter": "python",
   "pygments_lexer": "ipython3",
   "version": "3.7.4"
  }
 },
 "nbformat": 4,
 "nbformat_minor": 2
}
