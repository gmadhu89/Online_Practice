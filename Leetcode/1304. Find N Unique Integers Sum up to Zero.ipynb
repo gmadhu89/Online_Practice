{
 "cells": [
  {
   "cell_type": "markdown",
   "metadata": {},
   "source": [
    "Given an integer n, return any array containing n unique integers such that they add up to 0.\n",
    "\n",
    " \n",
    "\n",
    "Example 1:\n",
    "\n",
    "Input: n = 5\n",
    "Output: [-7,-1,1,3,4]\n",
    "Explanation: These arrays also are accepted [-5,-1,1,2,3] , [-3,-1,2,-2,4].\n",
    "Example 2:\n",
    "\n",
    "Input: n = 3\n",
    "Output: [-1,0,1]\n",
    "Example 3:\n",
    "\n",
    "Input: n = 1\n",
    "Output: [0]\n",
    " \n",
    "\n",
    "Constraints:\n",
    "\n",
    "1 <= n <= 1000"
   ]
  },
  {
   "cell_type": "code",
   "execution_count": 22,
   "metadata": {},
   "outputs": [],
   "source": [
    "class Solution():\n",
    "    \n",
    "    def numZero(self,n):\n",
    "        \n",
    "        '''\n",
    "        type n : int\n",
    "        rtype  : list\n",
    "        '''\n",
    "        res = []\n",
    "        \n",
    "        if n == 1:\n",
    "            return [0]\n",
    "        \n",
    "        else:\n",
    "            for i in range(1,(n//2)+1):\n",
    "                res.extend([i,-i])\n",
    "            \n",
    "            if n%2 == 0:\n",
    "                return res\n",
    "            else:\n",
    "                res.append(0)\n",
    "                return res\n",
    "                \n",
    "                \n",
    "                "
   ]
  },
  {
   "cell_type": "code",
   "execution_count": 23,
   "metadata": {},
   "outputs": [],
   "source": [
    "sol = Solution()"
   ]
  },
  {
   "cell_type": "code",
   "execution_count": 26,
   "metadata": {},
   "outputs": [
    {
     "data": {
      "text/plain": [
       "[1, -1, 2, -2, 3, -3, 4, -4, 5, -5, 0]"
      ]
     },
     "execution_count": 26,
     "metadata": {},
     "output_type": "execute_result"
    }
   ],
   "source": [
    "sol.numZero(11)"
   ]
  },
  {
   "cell_type": "code",
   "execution_count": 30,
   "metadata": {},
   "outputs": [],
   "source": [
    "from itertools import chain\n",
    "class Solution2():\n",
    "    def numZero(self,n):\n",
    "        \n",
    "        f = lambda x : x\n",
    "        g = lambda x: -x\n",
    "                \n",
    "        if n ==1 :\n",
    "            return [0]\n",
    "        \n",
    "        else:\n",
    "            if n%2 == 0:\n",
    "                return list(chain.from_iterable((f(x),g(x)) for x in range(1,(n//2)+1)))\n",
    "            else:\n",
    "                res = []\n",
    "                res = list(chain.from_iterable((f(x),g(x)) for x in range(1,(n//2)+1)))\n",
    "                res.append(0)\n",
    "                return res"
   ]
  },
  {
   "cell_type": "code",
   "execution_count": 41,
   "metadata": {},
   "outputs": [],
   "source": [
    "## Very Simple solution - Create a range of numbers and include/exclude zero depending or odd or even\n",
    "\n",
    "class Solution3():\n",
    "    def numzero(self,n):\n",
    "        \n",
    "        if n%2 == 0:\n",
    "            return list(set(range(-n//2,n//2+1)) - {0})\n",
    "        \n",
    "        else:\n",
    "            return list(set(range(-n//2+1,n//2+1)))"
   ]
  },
  {
   "cell_type": "code",
   "execution_count": 44,
   "metadata": {},
   "outputs": [
    {
     "data": {
      "text/plain": [
       "[1, 2, 3, -1, -3, -2]"
      ]
     },
     "execution_count": 44,
     "metadata": {},
     "output_type": "execute_result"
    }
   ],
   "source": [
    "sol3 = Solution3()\n",
    "\n",
    "sol3.numzero(6)"
   ]
  },
  {
   "cell_type": "code",
   "execution_count": null,
   "metadata": {},
   "outputs": [],
   "source": []
  }
 ],
 "metadata": {
  "kernelspec": {
   "display_name": "Python 3",
   "language": "python",
   "name": "python3"
  },
  "language_info": {
   "codemirror_mode": {
    "name": "ipython",
    "version": 3
   },
   "file_extension": ".py",
   "mimetype": "text/x-python",
   "name": "python",
   "nbconvert_exporter": "python",
   "pygments_lexer": "ipython3",
   "version": "3.7.4"
  }
 },
 "nbformat": 4,
 "nbformat_minor": 2
}
