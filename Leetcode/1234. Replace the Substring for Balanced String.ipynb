{
 "cells": [
  {
   "cell_type": "markdown",
   "metadata": {},
   "source": [
    "You are given a string containing only 4 kinds of characters 'Q', 'W', 'E' and 'R'.\n",
    "\n",
    "A string is said to be balanced if each of its characters appears n/4 times where n is the length of the string.\n",
    "\n",
    "Return the minimum length of the substring that can be replaced with any other string of the same length to make the original string s balanced.\n",
    "\n",
    "Return 0 if the string is already balanced.\n",
    "\n",
    "Example 1:\n",
    "\n",
    "Input: s = \"QWER\"\n",
    "Output: 0\n",
    "Explanation: s is already balanced.\n",
    "Example 2:\n",
    "\n",
    "Input: s = \"QQWE\"\n",
    "Output: 1\n",
    "Explanation: We need to replace a 'Q' to 'R', so that \"RQWE\" (or \"QRWE\") is balanced.\n",
    "Example 3:\n",
    "\n",
    "Input: s = \"QQQW\"\n",
    "Output: 2\n",
    "Explanation: We can replace the first \"QQ\" to \"ER\".\n",
    "    \n",
    "Example 4:\n",
    "\n",
    "Input: s = \"QQQQ\"\n",
    "Output: 3\n",
    "Explanation: We can replace the last 3 'Q' to make s = \"QWER\".\n",
    " \n",
    "\n",
    "Constraints:\n",
    "\n",
    "1 <= s.length <= 10^5\n",
    "s.length is a multiple of 4\n",
    "s contains only 'Q', 'W', 'E' and 'R'."
   ]
  },
  {
   "cell_type": "code",
   "execution_count": 27,
   "metadata": {},
   "outputs": [],
   "source": [
    "def balancedstring(s):\n",
    "    \n",
    "    s = s.upper()\n",
    "    res = {}\n",
    "    \n",
    "    for i in s:\n",
    "        if (i=='Q' or i=='W' or i=='E' or i=='R'):\n",
    "            res.add(i)\n",
    "    return 4- len(res)"
   ]
  },
  {
   "cell_type": "code",
   "execution_count": 32,
   "metadata": {},
   "outputs": [],
   "source": [
    "## O(n) Time complexity, O(1) space complexity"
   ]
  },
  {
   "cell_type": "code",
   "execution_count": 33,
   "metadata": {},
   "outputs": [
    {
     "data": {
      "text/plain": [
       "1"
      ]
     },
     "execution_count": 33,
     "metadata": {},
     "output_type": "execute_result"
    }
   ],
   "source": [
    "balancedstring(\"WQWRQQQW\")"
   ]
  },
  {
   "cell_type": "code",
   "execution_count": 34,
   "metadata": {},
   "outputs": [
    {
     "data": {
      "text/plain": [
       "8"
      ]
     },
     "execution_count": 34,
     "metadata": {},
     "output_type": "execute_result"
    }
   ],
   "source": [
    "len(\"WQWRQQQW\")"
   ]
  },
  {
   "cell_type": "code",
   "execution_count": 48,
   "metadata": {},
   "outputs": [
    {
     "data": {
      "text/plain": [
       "{'Q': 5, 'W': 8, 'E': 4, 'R': 3}"
      ]
     },
     "execution_count": 48,
     "metadata": {},
     "output_type": "execute_result"
    }
   ],
   "source": [
    "ans = {'Q':0,'W':0,'E':0,'R':0}\n",
    "\n",
    "s = 'WWEQERQWQWWRWWERQWEQ'\n",
    "s = s.upper()\n",
    "limit = len(s)//4\n",
    "res=0\n",
    "\n",
    "for i in s:\n",
    "    ans[i] += 1\n",
    "    if ans[i] > limit:\n",
    "        res += 1\n",
    "        \n",
    "ans"
   ]
  },
  {
   "cell_type": "code",
   "execution_count": 44,
   "metadata": {},
   "outputs": [
    {
     "data": {
      "text/plain": [
       "{'Q': 4, 'W': 3, 'E': 0, 'R': 1}"
      ]
     },
     "execution_count": 44,
     "metadata": {},
     "output_type": "execute_result"
    }
   ],
   "source": [
    "ans"
   ]
  },
  {
   "cell_type": "code",
   "execution_count": null,
   "metadata": {},
   "outputs": [],
   "source": []
  }
 ],
 "metadata": {
  "kernelspec": {
   "display_name": "Python 3",
   "language": "python",
   "name": "python3"
  },
  "language_info": {
   "codemirror_mode": {
    "name": "ipython",
    "version": 3
   },
   "file_extension": ".py",
   "mimetype": "text/x-python",
   "name": "python",
   "nbconvert_exporter": "python",
   "pygments_lexer": "ipython3",
   "version": "3.7.4"
  }
 },
 "nbformat": 4,
 "nbformat_minor": 2
}
