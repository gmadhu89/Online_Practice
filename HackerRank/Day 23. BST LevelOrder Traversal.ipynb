{
 "cells": [
  {
   "cell_type": "markdown",
   "metadata": {},
   "source": [
    "Objective\n",
    "Today, we're going further with Binary Search Trees. Check out the Tutorial tab for learning materials and an instructional video!\n",
    "\n",
    "Task\n",
    "A level-order traversal, also known as a breadth-first search, visits each level of a tree's nodes from left to right, top to bottom. You are given a pointer,root , pointing to the root of a binary search tree. Complete the levelOrder function provided in your editor so that it prints the level-order traversal of the binary search tree.\n",
    "\n",
    "Hint: You'll find a queue helpful in completing this challenge.\n",
    "\n",
    "Input Format\n",
    "\n",
    "The locked stub code in your editor reads the following inputs and assembles them into a BST:\n",
    "The first line contains an integer, T (the number of test cases).\n",
    "The T subsequent lines each contain an integer,data , denoting the value of an element that must be added to the BST.\n",
    "\n",
    "Output Format\n",
    "\n",
    "Print the data value of each node in the tree's level-order traversal as a single line of N space-separated integers.\n",
    "\n",
    "Sample Input\n",
    "\n",
    "6\n",
    "3\n",
    "5\n",
    "4\n",
    "7\n",
    "2\n",
    "1\n",
    "Sample Output\n",
    "\n",
    "3 2 5 1 4 7 "
   ]
  },
  {
   "cell_type": "code",
   "execution_count": 2,
   "metadata": {},
   "outputs": [
    {
     "name": "stdout",
     "output_type": "stream",
     "text": [
      "6\n",
      "3\n",
      "5\n",
      "4\n",
      "7\n",
      "2\n",
      "1\n",
      "3 2 5 1 4 7 \n"
     ]
    }
   ],
   "source": [
    "##Breadth First Search. From Left to right\n",
    "## Will use Queue for this\n",
    "\n",
    "import sys\n",
    "\n",
    "class Node:\n",
    "    def __init__(self,data):\n",
    "        self.left = self.right = None\n",
    "        self.data = data\n",
    "        \n",
    "class Solution:\n",
    "    def insert(self,root,data):\n",
    "        \n",
    "        if root == None:\n",
    "            return Node(data)\n",
    "        \n",
    "        else:\n",
    "            if data < root.data:\n",
    "                cur = self.insert(root.left,data)\n",
    "                root.left=cur\n",
    "            else:\n",
    "                cur = self.insert(root.right,data)\n",
    "                root.right = cur\n",
    "        return root\n",
    "    \n",
    "    def levelOrder(self,root):\n",
    "        nodes_to_search = list()\n",
    "        nodes_traversed = ''\n",
    "        nodes_to_search.append(root)\n",
    "        \n",
    "        while len(nodes_to_search) > 0:\n",
    "            node = nodes_to_search.pop(0)\n",
    "            if node.left:\n",
    "                nodes_to_search.append(node.left)\n",
    "            if node.right:\n",
    "                nodes_to_search.append(node.right)\n",
    "                \n",
    "            nodes_traversed += str(node.data) + ' '\n",
    "        print(nodes_traversed)\n",
    "    \n",
    "T=int(input())\n",
    "myTree=Solution()\n",
    "root = None\n",
    "for i in range(T):\n",
    "    data = int(input())\n",
    "    root = myTree.insert(root,data)\n",
    "myTree.levelOrder(root)\n",
    "        "
   ]
  },
  {
   "cell_type": "code",
   "execution_count": null,
   "metadata": {},
   "outputs": [],
   "source": []
  }
 ],
 "metadata": {
  "kernelspec": {
   "display_name": "Python 3",
   "language": "python",
   "name": "python3"
  },
  "language_info": {
   "codemirror_mode": {
    "name": "ipython",
    "version": 3
   },
   "file_extension": ".py",
   "mimetype": "text/x-python",
   "name": "python",
   "nbconvert_exporter": "python",
   "pygments_lexer": "ipython3",
   "version": "3.7.4"
  }
 },
 "nbformat": 4,
 "nbformat_minor": 2
}
