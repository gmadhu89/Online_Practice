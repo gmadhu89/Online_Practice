{
 "cells": [
  {
   "cell_type": "markdown",
   "metadata": {},
   "source": [
    "Welcome to Day 18! Today we're learning about Stacks and Queues. Check out the Tutorial tab for learning materials and an instructional video!\n",
    "\n",
    "A palindrome is a word, phrase, number, or other sequence of characters which reads the same backwards and forwards. Can you determine if a given string,s , is a palindrome?\n",
    "\n",
    "To solve this challenge, we must first take each character in s, enqueue it in a queue, and also push that same character onto a stack. Once that's done, we must dequeue the first character from the queue and pop the top character off the stack, then compare the two characters to see if they are the same; as long as the characters match, we continue dequeueing, popping, and comparing each character until our containers are empty (a non-match means s isn't a palindrome).\n",
    "\n",
    "Write the following declarations and implementations:\n",
    "\n",
    "Two instance variables: one for your stack, and one for your queue.\n",
    "A void pushCharacter(char ch) method that pushes a character onto a stack.\n",
    "A void enqueueCharacter(char ch) method that enqueues a character in the queue instance variable.\n",
    "A char popCharacter() method that pops and returns the character at the top of the stack instance variable.\n",
    "A char dequeueCharacter() method that dequeues and returns the first character in the queue instance variable.\n",
    "Input Format\n",
    "\n",
    "You do not need to read anything from stdin. The locked stub code in your editor reads a single line containing string s. It then calls the methods specified above to pass each character to your instance variables.\n",
    "\n",
    "Constraints\n",
    "\n",
    "s is composed of lowercase English letters.\n",
    "Output Format\n",
    "\n",
    "You are not responsible for printing any output to stdout.\n",
    "If your code is correctly written and s is a palindrome, the locked stub code will print \"The word, s, is a palindrome.\"; otherwise, it will print \"The word, s, is not a palindrome.\"\n",
    "\n",
    "Sample Input\n",
    "\n",
    "racecar\n",
    "Sample Output\n",
    "\n",
    "The word, racecar, is a palindrome."
   ]
  },
  {
   "cell_type": "code",
   "execution_count": 10,
   "metadata": {},
   "outputs": [
    {
     "name": "stdout",
     "output_type": "stream",
     "text": [
      "hello\n",
      "The word hello, is not a palindrome.\n"
     ]
    }
   ],
   "source": [
    "# Queue : First in First Out (FIFO)\n",
    "# Stack : First in Last Out (FILO)\n",
    "\n",
    "import sys\n",
    "from collections import deque\n",
    "\n",
    "class Solution:\n",
    "    \n",
    "    def __init__(self):\n",
    "        self.stack = list()\n",
    "        self.queue = deque()  \n",
    "    \n",
    "    def pushCharacter(self,char):\n",
    "        self.stack.append(char)\n",
    "    \n",
    "    def enqueueCharacter(self,char):\n",
    "        self.queue.append(char)\n",
    "        \n",
    "    def popCharacter(self):\n",
    "        return self.stack.pop()\n",
    "    \n",
    "    def dequeueCharacter(self):\n",
    "        return self.queue.popleft()\n",
    "\n",
    "s=input()\n",
    "\n",
    "obj = Solution()\n",
    "l = len(s)\n",
    "\n",
    "for i in range(0,l):\n",
    "    obj.pushCharacter(s[i])\n",
    "    obj.enqueueCharacter(s[i])\n",
    "    \n",
    "Palindrome = True\n",
    "\n",
    "for i in range (l//2):\n",
    "    if obj.popCharacter() != obj.dequeueCharacter():\n",
    "        Palindrome = False\n",
    "        break\n",
    "    \n",
    "if Palindrome:\n",
    "    print(\"The word \"+s+\", is a palindrome.\")\n",
    "else:\n",
    "    print(\"The word \"+s+\", is not a palindrome.\")"
   ]
  },
  {
   "cell_type": "code",
   "execution_count": 2,
   "metadata": {},
   "outputs": [],
   "source": [
    "x = list()"
   ]
  },
  {
   "cell_type": "code",
   "execution_count": 5,
   "metadata": {},
   "outputs": [],
   "source": [
    "from collections import deque\n",
    "x=deque()"
   ]
  },
  {
   "cell_type": "code",
   "execution_count": 6,
   "metadata": {},
   "outputs": [],
   "source": [
    "a = [1,2,3,4,5]"
   ]
  },
  {
   "cell_type": "code",
   "execution_count": 7,
   "metadata": {},
   "outputs": [
    {
     "data": {
      "text/plain": [
       "5"
      ]
     },
     "execution_count": 7,
     "metadata": {},
     "output_type": "execute_result"
    }
   ],
   "source": [
    "a.pop()"
   ]
  },
  {
   "cell_type": "code",
   "execution_count": null,
   "metadata": {},
   "outputs": [],
   "source": []
  }
 ],
 "metadata": {
  "kernelspec": {
   "display_name": "Python 3",
   "language": "python",
   "name": "python3"
  },
  "language_info": {
   "codemirror_mode": {
    "name": "ipython",
    "version": 3
   },
   "file_extension": ".py",
   "mimetype": "text/x-python",
   "name": "python",
   "nbconvert_exporter": "python",
   "pygments_lexer": "ipython3",
   "version": "3.7.4"
  }
 },
 "nbformat": 4,
 "nbformat_minor": 2
}
