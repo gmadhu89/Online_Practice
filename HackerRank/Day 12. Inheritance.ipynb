{
 "cells": [
  {
   "cell_type": "markdown",
   "metadata": {},
   "source": [
    "Objective\n",
    "Today, we're delving into Inheritance. Check out the attached tutorial for learning materials and an instructional video!\n",
    "\n",
    "Task\n",
    "You are given two classes, Person and Student, where Person is the base class and Student is the derived class. Completed code for Person and a declaration for Student are provided for you in the editor. Observe that Student inherits all the properties of Person.\n",
    "\n",
    "Complete the Student class by writing the following:\n",
    "\n",
    "A Student class constructor, which has  parameters:\n",
    "A string,first name .\n",
    "A string, last name .\n",
    "An integer,id .\n",
    "An integer array (or vector) of test scores, scores .\n",
    "A char calculate() method that calculates a Student object's average and returns the grade character representative of their calculated average:\n",
    "\n",
    "\n",
    "\n",
    "Input Format\n",
    "\n",
    "The locked stub code in your editor calls your Student class constructor and passes it the necessary arguments. It also calls the calculate method (which takes no arguments).\n",
    "\n",
    "You are not responsible for reading the following input from stdin:\n",
    "The first line contains , firstname ,lastname and id, respectively. The second line contains the number of test scores. The third line of space-separated integers describes scores.\n",
    "\n",
    "Grading Scale\n",
    "O 90<= a <=100\n",
    "E 80<= a <90\n",
    "A 70<= a<80\n",
    "P 55 <= a<70\n",
    "D 40 <= a<55\n",
    "T  a<40\n",
    "\n",
    "\n",
    "Constraints\n",
    "1<=|firstname|,|lastname|<=10\n",
    "|id|=7\n",
    "0<=score,average <= 100\n",
    "\n",
    "Output format\n",
    "This is handled by the locked stub code in your editor. Your output will be correct if your Student class constructor and calculate() method are properly implemented.\n",
    "\n",
    "Sample Input\n",
    "\n",
    "Heraldo Memelli 8135627\n",
    "2\n",
    "100 80\n",
    "\n",
    "Sample Output\n",
    "\n",
    " Name: Memelli, Heraldo\n",
    " ID: 8135627\n",
    " Grade: O\n",
    "     "
   ]
  },
  {
   "cell_type": "code",
   "execution_count": 26,
   "metadata": {},
   "outputs": [
    {
     "name": "stdout",
     "output_type": "stream",
     "text": [
      "Madhumitha Ganesan 244383\n",
      "100 80 80 60\n",
      "Name: Ganesan,Madhumitha\n",
      "ID: 244383\n"
     ]
    },
    {
     "data": {
      "text/plain": [
       "'E'"
      ]
     },
     "execution_count": 26,
     "metadata": {},
     "output_type": "execute_result"
    }
   ],
   "source": [
    "class Person():\n",
    "    def __init__(self,firstname,lastname,idnumber):\n",
    "        self.firstname = firstname\n",
    "        self.lastname = lastname\n",
    "        self.idnumber = idnumber\n",
    "    \n",
    "    def printperson(self):\n",
    "        print(\"Name:\",self.lastname + \",\"+self.firstname)\n",
    "        print(\"ID:\",self.idnumber)\n",
    "\n",
    "\n",
    "class Student(Person):\n",
    "    def __init__(self,firstname,lastname,idnumber,scores):\n",
    "        self.scores = scores\n",
    "        self.firstname = firstname\n",
    "        self.lastname = lastname\n",
    "        self.idnumber = idnumber\n",
    "    \n",
    "    def calculate(self):\n",
    "        sums = 0\n",
    "        for x in self.scores:\n",
    "            sums += x\n",
    "        \n",
    "        avg = sums/len(self.scores)\n",
    "        \n",
    "        if 90 <= avg <= 100:\n",
    "            return 'O'\n",
    "        elif 80<= avg < 90:\n",
    "            return 'E'\n",
    "        elif 70 <= avg < 80:\n",
    "            return 'A'\n",
    "        elif 55<= avg < 70:\n",
    "            return 'P'\n",
    "        elif 40<= avg < 55:\n",
    "            return 'D'\n",
    "        elif avg < 40:\n",
    "            return 'T'\n",
    "        else:\n",
    "            return 'Bad Input'\n",
    "        \n",
    "line = input().split()\n",
    "firstname = line[0]\n",
    "lastname = line[1]\n",
    "idnumber = line[2]\n",
    "\n",
    "scores = list(map(int,input().rstrip().split()))\n",
    "\n",
    "s= Student(firstname,lastname,idnumber,scores)\n",
    "s.printperson()\n",
    "\n",
    "s.calculate()"
   ]
  }
 ],
 "metadata": {
  "kernelspec": {
   "display_name": "Python 3",
   "language": "python",
   "name": "python3"
  },
  "language_info": {
   "codemirror_mode": {
    "name": "ipython",
    "version": 3
   },
   "file_extension": ".py",
   "mimetype": "text/x-python",
   "name": "python",
   "nbconvert_exporter": "python",
   "pygments_lexer": "ipython3",
   "version": "3.7.4"
  }
 },
 "nbformat": 4,
 "nbformat_minor": 2
}
