{
 "cells": [
  {
   "cell_type": "markdown",
   "metadata": {},
   "source": [
    "Objective\n",
    "Today, we're building on our knowledge of Arrays by adding another dimension. Check out the Tutorial tab for learning materials and an instructional video!\n",
    "\n",
    "Context\n",
    "Given a 6x6 2D Array,A :\n",
    "    \n",
    "1 1 1 0 0 0\n",
    "0 1 0 0 0 0\n",
    "1 1 1 0 0 0\n",
    "0 0 0 0 0 0\n",
    "0 0 0 0 0 0\n",
    "0 0 0 0 0 0\n",
    "\n",
    "We define an hourglass in A to be a subset of values with indices falling in this pattern in A's graphical representation:\n",
    "a b c\n",
    "  d\n",
    "e f g\n",
    "\n",
    "There are 16 hourglasses in , and an hourglass sum is the sum of an hourglass' values.\n",
    "\n",
    "Task\n",
    "Calculate the hourglass sum for every hourglass in A, then print the maximum hourglass sum.\n",
    "\n",
    "Input Format\n",
    "\n",
    "There are 6 lines of input, where each line contains 6 space-separated integers describing 2D Array A; every value in A\n",
    "will be in the inclusive range of -9 to 9.\n",
    "\n",
    "Constraints\n",
    "\n",
    "-9 <= A[i][j] <= 9\n",
    "0 <= i,j <= 5\n",
    "Output Format:\n",
    "    \n",
    "Print the largest (maximum) hourglass sum found in A.\n",
    "\n",
    "Sample Input\n",
    "1 1 1 0 0 0\n",
    "0 1 0 0 0 0\n",
    "1 1 1 0 0 0\n",
    "0 0 2 4 4 0\n",
    "0 0 0 2 0 0\n",
    "0 0 1 2 4 0\n",
    "\n",
    "\n",
    "Sample Output:\n",
    "19"
   ]
  },
  {
   "cell_type": "code",
   "execution_count": 20,
   "metadata": {},
   "outputs": [
    {
     "name": "stdout",
     "output_type": "stream",
     "text": [
      "1 1 1 0 0 0\n",
      "0 1 0 0 0 0\n",
      "1 1 1 0 0 0\n",
      "0 0 2 4 4 0\n",
      "0 0 0 2 0 0\n",
      "0 0 1 2 4 0\n",
      "19\n"
     ]
    }
   ],
   "source": [
    "#!/bin/python3\n",
    "\n",
    "## Explanation: We take the center element of the hourglass as the focal point of calculation. In a 6x6 matrix, this center \n",
    "##              element cannot be in the 1st row, 1st col, last row and last col. So, this will be from row 1-4 and col 1-4\n",
    "##              We have to use 2 iterations for row and column representation of the matrix\n",
    "##              We have to consider the center of hour glass as [row][col] and consider the elements above and below it for the sum\n",
    "##              If the sum > maximum sum , then we replace that sum as maximum sum.\n",
    "##              Since the lowest value for A[i][j] is -9, the minimum value of sum can be -9*7 = 63\n",
    "\n",
    "import math\n",
    "import os\n",
    "import random\n",
    "import re\n",
    "import sys\n",
    "\n",
    "if __name__ == '__main__':\n",
    "    arr = []\n",
    "    \n",
    "    for _ in range(6):\n",
    "        arr.append(list(map(int,input().rstrip().split())))\n",
    "        \n",
    "    maximum_sum_arr = -63\n",
    "    \n",
    "    def get_hourglass_sum(matrix,row,col):\n",
    "        sum = 0\n",
    "        sum += matrix[row-1][col-1]\n",
    "        sum += matrix[row-1][col]\n",
    "        sum += matrix[row-1][col+1]\n",
    "        sum += matrix[row][col]\n",
    "        sum += matrix[row+1][col-1]\n",
    "        sum += matrix[row+1][col]\n",
    "        sum +=  matrix[row+1][col+1]\n",
    "        \n",
    "        return sum\n",
    "        \n",
    "    for i in range(1,5):\n",
    "        for j in range(1,5):\n",
    "            current_sum_arr = get_hourglass_sum(arr,i,j)\n",
    "                \n",
    "            if current_sum_arr > maximum_sum_arr:\n",
    "                maximum_sum_arr = current_sum_arr\n",
    "    print(maximum_sum_arr)"
   ]
  },
  {
   "cell_type": "code",
   "execution_count": 19,
   "metadata": {},
   "outputs": [
    {
     "data": {
      "text/plain": [
       "[[1, 1, 1, 0, 0, 0],\n",
       " [0, 1, 0, 0, 0, 0],\n",
       " [1, 1, 1, 0, 0, 0],\n",
       " [0, 0, 2, 4, 4, 0],\n",
       " [0, 0, 0, 2, 0, 0],\n",
       " [0, 0, 1, 2, 4, 0]]"
      ]
     },
     "execution_count": 19,
     "metadata": {},
     "output_type": "execute_result"
    }
   ],
   "source": [
    "arr"
   ]
  }
 ],
 "metadata": {
  "kernelspec": {
   "display_name": "Python 3",
   "language": "python",
   "name": "python3"
  },
  "language_info": {
   "codemirror_mode": {
    "name": "ipython",
    "version": 3
   },
   "file_extension": ".py",
   "mimetype": "text/x-python",
   "name": "python",
   "nbconvert_exporter": "python",
   "pygments_lexer": "ipython3",
   "version": "3.7.4"
  }
 },
 "nbformat": 4,
 "nbformat_minor": 2
}
