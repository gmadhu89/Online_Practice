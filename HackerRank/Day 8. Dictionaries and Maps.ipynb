{
 "cells": [
  {
   "cell_type": "markdown",
   "metadata": {},
   "source": [
    "Objective\n",
    "Today, we're learning about Key-Value pair mappings using a Map or Dictionary data structure. Check out the Tutorial tab for learning materials and an instructional video!\n",
    "\n",
    "Task\n",
    "Given n names and phone numbers, assemble a phone book that maps friends' names to their respective phone numbers. \n",
    "You will then be given an unknown number of names to query your phone book for. \n",
    "For each name queried, print the associated entry from your phone book on a new line in the form name=phoneNumber; \n",
    "if an entry for name is not found, print Not found instead.\n",
    "\n",
    "Note: Your phone book should be a Dictionary/Map/HashMap data structure.\n",
    "    \n",
    "Input Format\n",
    "\n",
    "The first line contains an integer,n , denoting the number of entries in the phone book.\n",
    "Each of the n subsequent lines describes an entry in the form of 2 space-separated values on a single line. \n",
    "The first value is a friend's name, and the second value is an 8-digit phone number.\n",
    "\n",
    "After the n lines of phone book entries, there are an unknown number of lines of queries. Each line (query) contains a name\n",
    "to look up, and you must continue reading lines until there is no more input.\n",
    "\n",
    "Note: Names consist of lowercase English alphabetic letters and are first names only.    "
   ]
  },
  {
   "cell_type": "code",
   "execution_count": 24,
   "metadata": {},
   "outputs": [
    {
     "name": "stdout",
     "output_type": "stream",
     "text": [
      "2\n",
      "sam 100\n",
      "tom 200\n",
      "sam\n",
      "sam = 100\n",
      "jimmy\n",
      "Not Found\n",
      "timmu\n",
      "Not Found\n",
      "man\n",
      "Not Found\n",
      "tom\n",
      "tom = 200\n",
      "\n"
     ]
    }
   ],
   "source": [
    "n = int(input())\n",
    "name_book = {}\n",
    "\n",
    "if n == 0:\n",
    "    print('Enter any number greater than 1')\n",
    "\n",
    "while n and n<10**5:\n",
    "    name = str(input())\n",
    "    \n",
    "    name_book[name.split()[0]] = int(name.split()[1])\n",
    "    n -= 1\n",
    "    \n",
    "while True:\n",
    "    query = str(input())\n",
    "    \n",
    "    if query == '':\n",
    "        break\n",
    "    \n",
    "    else:\n",
    "        if query not in name_book:\n",
    "            print('Not Found')\n",
    "        else:\n",
    "            print(query+ ' = '+ str(name_book[query]))\n",
    "            \n"
   ]
  },
  {
   "cell_type": "code",
   "execution_count": 5,
   "metadata": {},
   "outputs": [],
   "source": [
    "class Solution:\n",
    "    def Dict_Inp(self):\n",
    "        n = int(input())\n",
    "        name_book = {}\n",
    "\n",
    "        if n == 0:\n",
    "            return 'Enter any number greater than 1'\n",
    "        \n",
    "        while n and n<10**5:\n",
    "            name = str(input())\n",
    "            name_book[name.split()[0]] = int(name.split()[1])\n",
    "            n -= 1\n",
    "        \n",
    "        ans = []\n",
    "        while True:\n",
    "            query = str(input())\n",
    "    \n",
    "            if query == '':\n",
    "                return print(*ans,sep='\\n')\n",
    "                return '\\n'.join(ans)\n",
    "                break\n",
    "    \n",
    "            else:\n",
    "                if query not in name_book:\n",
    "                    ans.append('Not Found')\n",
    "                else:\n",
    "                    ans.append(query+ ' = '+ str(name_book[query]))\n",
    "        \n",
    "        return print(*ans,sep='\\n')\n",
    "            "
   ]
  },
  {
   "cell_type": "code",
   "execution_count": 6,
   "metadata": {},
   "outputs": [],
   "source": [
    "sol = Solution()"
   ]
  },
  {
   "cell_type": "code",
   "execution_count": null,
   "metadata": {},
   "outputs": [],
   "source": [
    "## Actual Answer\n",
    "\n",
    "# Enter your code here. Read input from STDIN. Print output to STDOUT\n",
    "num = int(input())\n",
    "\n",
    "phone_book = {}\n",
    "\n",
    "for i in range(0, num):\n",
    "    entry = str(input()).split(\" \")\n",
    "\n",
    "    name = entry[0]\n",
    "    phone = int(entry[1])\n",
    "    phone_book[name] = phone\n",
    "\n",
    "for j in range(0, num):\n",
    "    name = str(input())\n",
    "\n",
    "    if name in phone_book:\n",
    "        phone = phone_book[name]\n",
    "        print(name + \"=\" + str(phone))\n",
    "    else:\n",
    "        print(\"Not found\")"
   ]
  },
  {
   "cell_type": "code",
   "execution_count": null,
   "metadata": {},
   "outputs": [],
   "source": []
  }
 ],
 "metadata": {
  "kernelspec": {
   "display_name": "Python 3",
   "language": "python",
   "name": "python3"
  },
  "language_info": {
   "codemirror_mode": {
    "name": "ipython",
    "version": 3
   },
   "file_extension": ".py",
   "mimetype": "text/x-python",
   "name": "python",
   "nbconvert_exporter": "python",
   "pygments_lexer": "ipython3",
   "version": "3.7.4"
  }
 },
 "nbformat": 4,
 "nbformat_minor": 2
}
