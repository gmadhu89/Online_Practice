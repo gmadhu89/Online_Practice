{
 "cells": [
  {
   "cell_type": "markdown",
   "metadata": {},
   "source": [
    "Task\n",
    "Given an array,a, of size n distinct elements, sort the array in ascending order using the Bubble Sort algorithm above. Once sorted, print the following 3 lines:\n",
    "\n",
    "Array is sorted in numSwaps swaps.\n",
    "where numSwaps is the number of swaps that took place.\n",
    "First Element: firstElement\n",
    "where firstElement is the first element in the sorted array.\n",
    "Last Element: lastElement\n",
    "where lastElement is the last element in the sorted array.\n",
    "Hint: To complete this challenge, you will need to add a variable that keeps a running tally of all swaps that occur during execution.\n",
    "    \n",
    "Input Format\n",
    "\n",
    "The first line contains an integer, n, denoting the number of elements in array a.\n",
    "The second line contains n space-separated integers describing the respective values of a0,a1,....an-1.\n",
    "\n",
    "Constraints\n",
    "\n",
    "2<=n<-600\n",
    "1<=ai <= 2X10**6, where 0<=i<n\n",
    "\n",
    "Output Format\n",
    "\n",
    "Print the following three lines of output:\n",
    "\n",
    "Array is sorted in numSwaps swaps.\n",
    "where numSwaps is the number of swaps that took place.\n",
    "First Element: firstElement\n",
    "where firstElement is the first element in the sorted array.\n",
    "Last Element: lastElement\n",
    "where LastElement is the last element in the sorted array."
   ]
  },
  {
   "cell_type": "code",
   "execution_count": 1,
   "metadata": {},
   "outputs": [
    {
     "name": "stdout",
     "output_type": "stream",
     "text": [
      "3\n",
      "3 2 1\n",
      "Array is sorted in 3 swaps.\n",
      "First Element: 1\n",
      "Last Element: 3\n"
     ]
    }
   ],
   "source": [
    "#!/bin/python3\n",
    "\n",
    "## This is called Bubble Sort\n",
    "\n",
    "import sys\n",
    "\n",
    "n=int(input()) ## First input to get the number of elements in the array\n",
    "a=list(map(int,input().strip().split(' ')))\n",
    "\n",
    "TotalSwaps = 0\n",
    "\n",
    "for i in range(len(a)):\n",
    "    numberOfSwaps = 0\n",
    "    \n",
    "    for j in range(0,len(a)-1):\n",
    "        \n",
    "        if a[j] > a[j+1]:\n",
    "            tmp = a[j]\n",
    "            a[j] = a[j+1]\n",
    "            a[j+1] = tmp\n",
    "            numberOfSwaps += 1\n",
    "    TotalSwaps += numberOfSwaps\n",
    "    \n",
    "    if numberOfSwaps == 0:\n",
    "        break;\n",
    "        \n",
    "print(\"Array is sorted in \" + str(TotalSwaps) + ' swaps.')\n",
    "print(\"First Element: \"+ str(a[0]))\n",
    "print('Last Element: '+ str(a[-1]))"
   ]
  },
  {
   "cell_type": "code",
   "execution_count": null,
   "metadata": {},
   "outputs": [],
   "source": []
  }
 ],
 "metadata": {
  "kernelspec": {
   "display_name": "Python 3",
   "language": "python",
   "name": "python3"
  },
  "language_info": {
   "codemirror_mode": {
    "name": "ipython",
    "version": 3
   },
   "file_extension": ".py",
   "mimetype": "text/x-python",
   "name": "python",
   "nbconvert_exporter": "python",
   "pygments_lexer": "ipython3",
   "version": "3.7.4"
  }
 },
 "nbformat": 4,
 "nbformat_minor": 2
}
