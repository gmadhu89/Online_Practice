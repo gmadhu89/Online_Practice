{
 "cells": [
  {
   "cell_type": "markdown",
   "metadata": {},
   "source": [
    "Objective\n",
    "Yesterday's challenge taught you to manage exceptional situations by using try and catch blocks. \n",
    "In today's challenge, you're going to practice throwing and propagating an exception. Check out the Tutorial tab for learning materials and an instructional video!\n",
    "\n",
    "Task\n",
    "Write a Calculator class with a single method: int power(int,int). The power method takes two integers, n and p, as parameters and returns the integer result of n**p. If either n or p is negative, then the method must throw an exception with the message: n and p should be non-negative.\n",
    "\n",
    "Note: Do not use an access modifier (e.g.: public) in the declaration for your Calculator class.\n",
    "\n",
    "Input Format\n",
    "\n",
    "Input from stdin is handled for you by the locked stub code in your editor. The first line contains an integer,T, the number of test cases. Each of the T  subsequent lines describes a test case in 2 space-separated integers denoting n and p, respectively.\n",
    "\n",
    "Constraints\n",
    "\n",
    "No Test Case will result in overflow for correctly written code.\n",
    "Output Format\n",
    "\n",
    "Output to stdout is handled for you by the locked stub code in your editor. There are T lines of output, where each line contains the result of n**p as calculated by your Calculator class' power method.\n",
    "\n",
    "Sample Input\n",
    "\n",
    "4\n",
    "3 5\n",
    "2 4\n",
    "-1 -2\n",
    "-1 3\n",
    "Sample Output\n",
    "\n",
    "243\n",
    "16\n",
    "n and p should be non-negative\n",
    "n and p should be non-negative\n",
    "\n",
    "Explanation\n",
    "\n",
    "T=4\n",
    "T0:3  and 5 are positive, so power returns the result of 3**5, which is 243.\n",
    "T1:2  and 4 are positive, so power returns the result of 2**4=, which is 16.\n",
    "T3: Both inputs -1( and -2) are negative, so power throws an exception and \"n and p should be non-negative\" is printed.\n",
    "T3: One of the inputs (-1) is negative, so power throws an exception and \"n and p should be non-negative\" is printed."
   ]
  },
  {
   "cell_type": "code",
   "execution_count": 10,
   "metadata": {},
   "outputs": [
    {
     "name": "stdout",
     "output_type": "stream",
     "text": [
      "4\n",
      "3 5\n",
      "243\n",
      "2 4\n",
      "16\n",
      "-1 -2\n",
      "n and p should be negative\n",
      "-1 3\n",
      "n and p should be negative\n"
     ]
    }
   ],
   "source": [
    "class Calculator():\n",
    "    \n",
    "    def power(self,n,p):\n",
    "        if n == abs(n) and p == abs(p):\n",
    "            return n**p\n",
    "        else:\n",
    "            raise Exception(\"n and p should be non-negative\")\n",
    "    \n",
    "\n",
    "    \n",
    "\n",
    "mycalculator = Calculator()\n",
    "T = int(input())\n",
    "for i in range(T):\n",
    "    n,p = list(map(int,input().strip().split(\" \")))\n",
    "        \n",
    "    try:\n",
    "        ans = mycalculator.power(n,p)\n",
    "        print(ans)\n",
    "    \n",
    "    except Exception as e:\n",
    "            print(e)"
   ]
  },
  {
   "cell_type": "code",
   "execution_count": 8,
   "metadata": {},
   "outputs": [
    {
     "name": "stdout",
     "output_type": "stream",
     "text": [
      "3\n",
      "1 3 \n",
      "4 5\n",
      "-1 3\n",
      "-1 3\n"
     ]
    }
   ],
   "source": [
    "power()"
   ]
  },
  {
   "cell_type": "code",
   "execution_count": null,
   "metadata": {},
   "outputs": [],
   "source": []
  }
 ],
 "metadata": {
  "kernelspec": {
   "display_name": "Python 3",
   "language": "python",
   "name": "python3"
  },
  "language_info": {
   "codemirror_mode": {
    "name": "ipython",
    "version": 3
   },
   "file_extension": ".py",
   "mimetype": "text/x-python",
   "name": "python",
   "nbconvert_exporter": "python",
   "pygments_lexer": "ipython3",
   "version": "3.7.4"
  }
 },
 "nbformat": 4,
 "nbformat_minor": 2
}
