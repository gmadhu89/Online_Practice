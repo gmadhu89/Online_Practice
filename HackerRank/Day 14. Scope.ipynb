{
 "cells": [
  {
   "cell_type": "markdown",
   "metadata": {},
   "source": [
    "Today we're discussing scope. Check out the Tutorial tab for learning materials and an instructional video!\n",
    "\n",
    "The absolute difference between two integers, a and b, is written as |a-b| . The maximum absolute difference between two integers in a set of positive integers,elements , is the largest absolute difference between any two integers in elements.\n",
    "\n",
    "The Difference class is started for you in the editor. It has a private integer array (elements) for storing N non-negative integers, and a public integer (maximum Difference) for storing the maximum absolute difference.\n",
    "\n",
    "Task\n",
    "Complete the Difference class by writing the following:\n",
    "\n",
    "A class constructor that takes an array of integers as a parameter and saves it to the elements instance variable.\n",
    "A computeDifference method that finds the maximum absolute difference between any 2 numbers in N and stores it in the maximumDifference instance variable.\n",
    "Input Format\n",
    "\n",
    "You are not responsible for reading any input from stdin. The locked Solution class in your editor reads in 2 lines of input; the first line contains N, and the second line describes the elements array.\n",
    "\n",
    "Constraints\n",
    "\n",
    "1<= N <=10\n",
    "1 <= elements[i] <= 100 where 0<=i<=N-1\n",
    "\n",
    "\n",
    "Output Format\n",
    "\n",
    "You are not responsible for printing any output; the Solution class will print the value of the maximumDifference instance variable.\n",
    "\n",
    "Sample Input\n",
    "\n",
    "3\n",
    "1 2 5\n",
    "Sample Output\n",
    "\n",
    "4\n",
    "Explanation\n",
    "\n",
    "The scope of the elements array and maximumDifference integer is the entire class instance. The class constructor saves the argument passed to the constructor as the elements instance variable (where the computeDifference method can access it).\n",
    "\n",
    "To find the maximum difference, computeDifference checks each element in the array and finds the maximum difference between any 2 elements: |1-2| = 1\n",
    "|1-5|=4\n",
    "|2-5|=3\n",
    "\n",
    "The maximum of these differences is 4, so it saves the value 4 as the maximumDifference instance variable. The locked stub code in the editor then prints the value stored as maximumDifference, which is 4."
   ]
  },
  {
   "cell_type": "code",
   "execution_count": null,
   "metadata": {},
   "outputs": [],
   "source": [
    "class Difference:\n",
    "    def __init__(self,a):\n",
    "        self.__elements = a\n",
    "        \n",
    "        self.maximumDifference = 0\n",
    "        \n",
    "    def computeDifference(self):\n",
    "        maxelement = 0\n",
    "        minelement = 101\n",
    "        \n",
    "        for i in self.__elements:\n",
    "            if i > maxelement:\n",
    "                maxelement = i\n",
    "            if i < minelement:\n",
    "                minelement = i\n",
    "                \n",
    "        self.maximumDifference = maxelement - minelement\n",
    "\n",
    "_ = input()     \n",
    "a = [int(e) for e in input().split(' ')]\n",
    "\n",
    "d = Difference(a)\n",
    "d.computeDifference()\n",
    "\n",
    "print(d.maximumDifference)"
   ]
  },
  {
   "cell_type": "code",
   "execution_count": null,
   "metadata": {},
   "outputs": [],
   "source": [
    "class Test():\n",
    "    def __init__(self):\n",
    "        self.__variable = 10"
   ]
  },
  {
   "cell_type": "code",
   "execution_count": null,
   "metadata": {},
   "outputs": [],
   "source": [
    "import testFile\n",
    "obj = testFile.Test()\n",
    "obj.__variable"
   ]
  },
  {
   "cell_type": "code",
   "execution_count": null,
   "metadata": {},
   "outputs": [],
   "source": []
  },
  {
   "cell_type": "code",
   "execution_count": null,
   "metadata": {},
   "outputs": [],
   "source": []
  }
 ],
 "metadata": {
  "kernelspec": {
   "display_name": "Python 3",
   "language": "python",
   "name": "python3"
  },
  "language_info": {
   "codemirror_mode": {
    "name": "ipython",
    "version": 3
   },
   "file_extension": ".py",
   "mimetype": "text/x-python",
   "name": "python",
   "nbconvert_exporter": "python",
   "pygments_lexer": "ipython3",
   "version": "3.7.4"
  }
 },
 "nbformat": 4,
 "nbformat_minor": 2
}
