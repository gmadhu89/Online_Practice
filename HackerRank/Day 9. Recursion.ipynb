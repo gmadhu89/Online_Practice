{
 "cells": [
  {
   "cell_type": "markdown",
   "metadata": {},
   "source": [
    "Objective\n",
    "Today, we're learning and practicing an algorithmic concept called Recursion. Check out the Tutorial tab for learning materials and an instructional video!\n",
    "\n",
    "Recursive Method for Calculating Factorial\n",
    "Task\n",
    "Write a factorial function that takes a positive integer,N  as a parameter and prints the result of N!  ( factorial).\n",
    "\n",
    "Note: If you fail to use recursion or fail to name your recursive function factorial or Factorial, you will get a score of .\n",
    "\n",
    "Input Format\n",
    "\n",
    "A single integer, N (the argument to pass to factorial).\n",
    "\n",
    "Constraints\n",
    "\n",
    "Your submission must contain a recursive function named factorial."
   ]
  },
  {
   "cell_type": "code",
   "execution_count": 5,
   "metadata": {},
   "outputs": [
    {
     "name": "stdout",
     "output_type": "stream",
     "text": [
      "5\n",
      "120\n"
     ]
    }
   ],
   "source": [
    "import math\n",
    "import os\n",
    "import random\n",
    "import re\n",
    "import sys\n",
    "\n",
    "def factorial(n):\n",
    "    \n",
    "    fact = 1\n",
    "    while n > 0:\n",
    "        fact *= n\n",
    "        n -= 1\n",
    "    \n",
    "    return fact        \n",
    "\n",
    "if __name__ =='__main__':\n",
    "    #fptr = open(os.environ['OUTPUT_PATH'],'w')\n",
    "    \n",
    "    n = int(input())\n",
    "    \n",
    "    result = factorial(n)\n",
    "    print(result)\n",
    "    \n",
    "    #fptr.write(str(result)+ '\\n')"
   ]
  },
  {
   "cell_type": "code",
   "execution_count": null,
   "metadata": {},
   "outputs": [],
   "source": []
  }
 ],
 "metadata": {
  "kernelspec": {
   "display_name": "Python 3",
   "language": "python",
   "name": "python3"
  },
  "language_info": {
   "codemirror_mode": {
    "name": "ipython",
    "version": 3
   },
   "file_extension": ".py",
   "mimetype": "text/x-python",
   "name": "python",
   "nbconvert_exporter": "python",
   "pygments_lexer": "ipython3",
   "version": "3.7.4"
  }
 },
 "nbformat": 4,
 "nbformat_minor": 2
}
