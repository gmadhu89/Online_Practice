{
 "cells": [
  {
   "cell_type": "markdown",
   "metadata": {},
   "source": [
    "Objective\n",
    "Today we're expanding our knowledge of Strings and combining it with what we've already learned about loops. Check out the Tutorial tab for learning materials and an instructional video!\n",
    "\n",
    "Task\n",
    "Given a string,S , of length N that is indexed from 0 to N-1, print its even-indexed and odd-indexed characters as 2 \n",
    "space-separated strings on a single line (see the Sample below for more detail).\n",
    "\n",
    "Note: 0 is considered to be an even index.\n",
    "\n",
    "Input Format\n",
    "\n",
    "The first line contains an integer, T (the number of test cases).\n",
    "Each line i of the T subsequent lines contain a String,S .\n",
    "\n",
    "Sample Input\n",
    "2\n",
    "Hacker\n",
    "Rank\n",
    "\n",
    "\n",
    "Sample Output\n",
    "Hce akr\n",
    "Rn ak"
   ]
  },
  {
   "cell_type": "code",
   "execution_count": 33,
   "metadata": {},
   "outputs": [
    {
     "name": "stdout",
     "output_type": "stream",
     "text": [
      "3\n",
      "Hello\n",
      "World\n",
      "Line\n",
      "Hlo el\n",
      "Wrd ol\n",
      "Ln ie\n"
     ]
    }
   ],
   "source": [
    "class Solution():\n",
    "    \n",
    "    def stringsep(self,string):\n",
    "        '''\n",
    "        :type string:str\n",
    "        :rtype      :str\n",
    "        '''\n",
    "        Even,Odd = [],[]\n",
    "        for i,v in enumerate(string):\n",
    "            if i%2==0: \n",
    "                Even.append(v)\n",
    "            else:\n",
    "                Odd.append(v)\n",
    "\n",
    "        return ''.join(Even) + ' ' + ''.join(Odd)\n",
    "\n",
    "result=[]\n",
    "T=int(input())\n",
    "for i in range(T):\n",
    "    \n",
    "    in_str = str(input())\n",
    "    str_sep = Solution()\n",
    "    result.append(str_sep.stringsep(in_str))\n",
    "\n",
    "print('\\n'.join(result))"
   ]
  },
  {
   "cell_type": "code",
   "execution_count": 36,
   "metadata": {},
   "outputs": [
    {
     "name": "stdout",
     "output_type": "stream",
     "text": [
      "2\n",
      "Hacker\n",
      "Hce akr\n",
      "Rank\n",
      "Rn ak\n"
     ]
    }
   ],
   "source": [
    "## Python simple one liner solution\n",
    "\n",
    "T = int(input())\n",
    "for i in range(T):\n",
    "    in_str=str(input())\n",
    "    print(*[\"\".join(in_str[::2]),\"\".join(in_str[1::2])])"
   ]
  },
  {
   "cell_type": "code",
   "execution_count": null,
   "metadata": {},
   "outputs": [],
   "source": []
  }
 ],
 "metadata": {
  "kernelspec": {
   "display_name": "Python 3",
   "language": "python",
   "name": "python3"
  },
  "language_info": {
   "codemirror_mode": {
    "name": "ipython",
    "version": 3
   },
   "file_extension": ".py",
   "mimetype": "text/x-python",
   "name": "python",
   "nbconvert_exporter": "python",
   "pygments_lexer": "ipython3",
   "version": "3.7.4"
  }
 },
 "nbformat": 4,
 "nbformat_minor": 2
}
