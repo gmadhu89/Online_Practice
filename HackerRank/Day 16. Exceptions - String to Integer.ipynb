{
 "cells": [
  {
   "cell_type": "markdown",
   "metadata": {},
   "source": [
    "Objective\n",
    "Today, we're getting started with Exceptions by learning how to parse an integer from a string and print a custom error message. Check out the Tutorial tab for learning materials and an instructional video!\n",
    "\n",
    "Task\n",
    "Read a string,S , and print its integer value; if S cannot be converted to an integer, print Bad String.\n",
    "\n",
    "Note: You must use the String-to-Integer and exception handling constructs built into your submission language. If you attempt to use loops/conditional statements, you will get a 0 score.\n",
    "\n",
    "Input Format\n",
    "\n",
    "A single string,S .\n",
    "\n",
    "Constraints\n",
    "\n",
    "1<=|S| <=6\n",
    "\n",
    ", where |S| is the length of string S.\n",
    "S is composed of either lowercase letters (a-z) or decimal digits (0-9).\n",
    "Output Format\n",
    "\n",
    "Print the parsed integer value of S, or Bad String if S cannot be converted to an integer."
   ]
  },
  {
   "cell_type": "code",
   "execution_count": 3,
   "metadata": {},
   "outputs": [
    {
     "name": "stdout",
     "output_type": "stream",
     "text": [
      "za\n",
      "Bad String\n"
     ]
    }
   ],
   "source": [
    "#!/bin/python3\n",
    "\n",
    "import sys\n",
    "\n",
    "s= input().strip()\n",
    "\n",
    "try:\n",
    "    integer_value = int(s)\n",
    "    print(integer_value)\n",
    "except ValueError:\n",
    "    print('Bad String')"
   ]
  },
  {
   "cell_type": "code",
   "execution_count": null,
   "metadata": {},
   "outputs": [],
   "source": []
  }
 ],
 "metadata": {
  "kernelspec": {
   "display_name": "Python 3",
   "language": "python",
   "name": "python3"
  },
  "language_info": {
   "codemirror_mode": {
    "name": "ipython",
    "version": 3
   },
   "file_extension": ".py",
   "mimetype": "text/x-python",
   "name": "python",
   "nbconvert_exporter": "python",
   "pygments_lexer": "ipython3",
   "version": "3.7.4"
  }
 },
 "nbformat": 4,
 "nbformat_minor": 2
}
