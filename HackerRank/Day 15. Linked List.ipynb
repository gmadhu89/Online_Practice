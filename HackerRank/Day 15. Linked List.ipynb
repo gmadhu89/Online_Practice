{
 "cells": [
  {
   "cell_type": "markdown",
   "metadata": {},
   "source": [
    "A Node class is provided for you in the editor. A Node object has an integer data field,data , and a Node instance pointer,next , pointing to another node (i.e.: the next node in a list).\n",
    "\n",
    "A Node insert function is also declared in your editor. It has two parameters: a pointer,head , pointing to the first node of a linked list, and an integer data value that must be added to the end of the list as a new Node object.\n",
    "\n",
    "Task\n",
    "Complete the insert function in your editor so that it creates a new Node (pass data as the Node constructor argument) and inserts it at the tail of the linked list referenced by the head parameter. Once the new node is added, return the reference to the head node.\n",
    "\n",
    "Note: If the head argument passed to the insert function is null, then the initial list is empty.\n",
    "\n",
    "Input Format\n",
    "\n",
    "The insert function has 2 parameters: a pointer to a Node named head, and an integer value,data .\n",
    "The constructor for Node has 1 parameter: an integer value for the data field.\n",
    "\n",
    "You do not need to read anything from stdin.\n",
    "\n",
    "Output Format\n",
    "\n",
    "Your insert function should return a reference to the head node of the linked list.\n",
    "\n",
    "Sample Input\n",
    "\n",
    "The following input is handled for you by the locked code in the editor:\n",
    "The first line contains T, the number of test cases.\n",
    "The T subsequent lines of test cases each contain an integer to be inserted at the list's tail.\n",
    "\n",
    "4\n",
    "2\n",
    "3\n",
    "4\n",
    "1\n",
    "Sample Output\n",
    "\n",
    "The locked code in your editor prints the ordered data values for each element in your list as a single line of space-separated integers:\n",
    "\n",
    "2 3 4 1\n",
    "Explanation\n",
    "    \n",
    "T=4, so the locked code in the editor will be inserting 4 nodes.\n",
    "The list is initially empty, so head is null; accounting for this, our code returns a new node containing the data value 2 as the head of our list. We then create and insert nodes 3,4 , and 1 at the tail of our list. The resulting list returned by the last call to insert is [2,3,4,1], so the printed output is 2 3 4 1.\n",
    "\n",
    "LinkedListExplanation.png"
   ]
  },
  {
   "cell_type": "code",
   "execution_count": 1,
   "metadata": {},
   "outputs": [
    {
     "name": "stdout",
     "output_type": "stream",
     "text": [
      "4\n",
      "4\n",
      "5\n",
      "6\n",
      "7\n",
      "4 5 6 7 "
     ]
    }
   ],
   "source": [
    "class Node:\n",
    "    def __init__(self,data):\n",
    "        self.data = data\n",
    "        self.next = None\n",
    "        \n",
    "class Solution:\n",
    "    def display(self,head):\n",
    "        current = head\n",
    "        while current:\n",
    "            print(current.data,end=' ')\n",
    "            current = current.next\n",
    "            \n",
    "    def insert(self,head,data):\n",
    "        newNode = Node(data)\n",
    "        if not head:\n",
    "            return newNode\n",
    "        current = head\n",
    "        while current.next:\n",
    "            current = current.next\n",
    "        current.next = newNode\n",
    "        return head\n",
    "    \n",
    "mylist = Solution()\n",
    "T=int(input())\n",
    "head = None\n",
    "for i in range(T):\n",
    "    data = int(input())\n",
    "    head=mylist.insert(head,data)\n",
    "mylist.display(head);"
   ]
  },
  {
   "cell_type": "code",
   "execution_count": null,
   "metadata": {},
   "outputs": [],
   "source": []
  },
  {
   "cell_type": "code",
   "execution_count": null,
   "metadata": {},
   "outputs": [],
   "source": []
  },
  {
   "cell_type": "code",
   "execution_count": 2,
   "metadata": {},
   "outputs": [
    {
     "name": "stdout",
     "output_type": "stream",
     "text": [
      "4\n",
      "1\n",
      "2\n",
      "3\n",
      "4\n",
      "1 2 3 4 "
     ]
    }
   ],
   "source": [
    "class Node():\n",
    "    def __init__(self,data):\n",
    "        self.data = data\n",
    "        self.next = None\n",
    "\n",
    "class Solution():\n",
    "    \n",
    "    def display(self,head):\n",
    "        current = head\n",
    "        while current:\n",
    "            print(current.data,end=' ')\n",
    "            current=current.next\n",
    "    \n",
    "    def insert(self,head,data):\n",
    "        NewNode = Node(data)\n",
    "        if not head:\n",
    "            return NewNode\n",
    "        current=head\n",
    "        while current.next:\n",
    "            current = current.next\n",
    "        current.next = NewNode\n",
    "        return head\n",
    "        \n",
    "    \n",
    "mysol = Solution()\n",
    "T = int(input())\n",
    "head=None\n",
    "for i in range(T):\n",
    "    data = int(input())\n",
    "    head = mysol.insert(head,data)\n",
    "    \n",
    "mysol.display(head);\n",
    "    "
   ]
  },
  {
   "cell_type": "code",
   "execution_count": null,
   "metadata": {},
   "outputs": [],
   "source": []
  }
 ],
 "metadata": {
  "kernelspec": {
   "display_name": "Python 3",
   "language": "python",
   "name": "python3"
  },
  "language_info": {
   "codemirror_mode": {
    "name": "ipython",
    "version": 3
   },
   "file_extension": ".py",
   "mimetype": "text/x-python",
   "name": "python",
   "nbconvert_exporter": "python",
   "pygments_lexer": "ipython3",
   "version": "3.7.4"
  }
 },
 "nbformat": 4,
 "nbformat_minor": 2
}
